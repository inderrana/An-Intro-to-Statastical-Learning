{
  "nbformat": 4,
  "nbformat_minor": 0,
  "metadata": {
    "colab": {
      "name": "NeuralNet_Base_Compatison.ipynb",
      "provenance": [],
      "collapsed_sections": []
    },
    "kernelspec": {
      "name": "python3",
      "display_name": "Python 3"
    },
    "language_info": {
      "name": "python"
    }
  },
  "cells": [
    {
      "cell_type": "markdown",
      "source": [
        "Load libraries"
      ],
      "metadata": {
        "id": "HH9g-GHt-RcB"
      }
    },
    {
      "cell_type": "code",
      "execution_count": 75,
      "metadata": {
        "id": "AhuHZExAMA6M"
      },
      "outputs": [],
      "source": [
        "import pandas as pd\n",
        "import numpy as np\n",
        "import random\n",
        "\n",
        "import os\n",
        "\n",
        "from sklearn.model_selection import train_test_split\n",
        "from sklearn.feature_selection import SelectFromModel\n",
        "from sklearn.preprocessing import StandardScaler\n",
        "from sklearn.metrics import accuracy_score, roc_auc_score\n",
        "\n",
        "from sklearn.linear_model import LogisticRegression\n",
        "from sklearn.tree import DecisionTreeClassifier\n",
        "from sklearn.ensemble import RandomForestClassifier, AdaBoostClassifier, GradientBoostingClassifier\n",
        "from sklearn.neural_network import MLPClassifier\n",
        "from sklearn.neighbors import KNeighborsClassifier\n",
        "from sklearn.neural_network import MLPClassifier\n",
        "from xgboost import XGBClassifier\n",
        "\n",
        "import tensorflow as tf\n",
        "from tensorflow.keras.models import Sequential\n",
        "from tensorflow.keras.layers import Dense, Activation,Dropout\n",
        "from tensorflow.keras.callbacks import EarlyStopping\n",
        "\n",
        "import keras\n",
        "from keras import backend as K"
      ]
    },
    {
      "cell_type": "markdown",
      "source": [
        "Set working directory"
      ],
      "metadata": {
        "id": "OX4gDFlX-Vjm"
      }
    },
    {
      "cell_type": "code",
      "source": [
        "%cd /content/drive/My Drive/IESEG/SML/data/bankruptcy_prediction"
      ],
      "metadata": {
        "colab": {
          "base_uri": "https://localhost:8080/"
        },
        "id": "jSOgQNYIMW_8",
        "outputId": "9af00443-22e4-4348-ec4f-e39569f379a3"
      },
      "execution_count": 149,
      "outputs": [
        {
          "output_type": "stream",
          "name": "stdout",
          "text": [
            "/content/drive/My Drive/IESEG/SML/data/bankruptcy_prediction\n"
          ]
        }
      ]
    },
    {
      "cell_type": "markdown",
      "source": [
        "Data prep"
      ],
      "metadata": {
        "id": "CRUDSrH3-aEq"
      }
    },
    {
      "cell_type": "code",
      "source": [
        "# Load data\n",
        "data = pd.read_csv(\"data.csv\")"
      ],
      "metadata": {
        "id": "B50Ffg1XMgnC"
      },
      "execution_count": 77,
      "outputs": []
    },
    {
      "cell_type": "code",
      "source": [
        "#check sample data\n",
        "data.head(3)"
      ],
      "metadata": {
        "colab": {
          "base_uri": "https://localhost:8080/",
          "height": 323
        },
        "id": "pYf4YaLrMwQ3",
        "outputId": "a2e432e3-aaf0-49a3-8085-b95e3d895d43"
      },
      "execution_count": 78,
      "outputs": [
        {
          "output_type": "execute_result",
          "data": {
            "text/plain": [
              "   Bankrupt?   ROA(C) before interest and depreciation before interest  \\\n",
              "0          1                                           0.370594          \n",
              "1          1                                           0.464291          \n",
              "2          1                                           0.426071          \n",
              "\n",
              "    ROA(A) before interest and % after tax  \\\n",
              "0                                 0.424389   \n",
              "1                                 0.538214   \n",
              "2                                 0.499019   \n",
              "\n",
              "    ROA(B) before interest and depreciation after tax  \\\n",
              "0                                           0.405750    \n",
              "1                                           0.516730    \n",
              "2                                           0.472295    \n",
              "\n",
              "    Operating Gross Margin   Realized Sales Gross Margin  \\\n",
              "0                 0.601457                      0.601457   \n",
              "1                 0.610235                      0.610235   \n",
              "2                 0.601450                      0.601364   \n",
              "\n",
              "    Operating Profit Rate   Pre-tax net Interest Rate  \\\n",
              "0                0.998969                    0.796887   \n",
              "1                0.998946                    0.797380   \n",
              "2                0.998857                    0.796403   \n",
              "\n",
              "    After-tax net Interest Rate   Non-industry income and expenditure/revenue  \\\n",
              "0                      0.808809                                      0.302646   \n",
              "1                      0.809301                                      0.303556   \n",
              "2                      0.808388                                      0.302035   \n",
              "\n",
              "   ...   Net Income to Total Assets   Total assets to GNP price  \\\n",
              "0  ...                     0.716845                    0.009219   \n",
              "1  ...                     0.795297                    0.008323   \n",
              "2  ...                     0.774670                    0.040003   \n",
              "\n",
              "    No-credit Interval   Gross Profit to Sales  \\\n",
              "0             0.622879                0.601453   \n",
              "1             0.623652                0.610237   \n",
              "2             0.623841                0.601449   \n",
              "\n",
              "    Net Income to Stockholder's Equity   Liability to Equity  \\\n",
              "0                             0.827890              0.290202   \n",
              "1                             0.839969              0.283846   \n",
              "2                             0.836774              0.290189   \n",
              "\n",
              "    Degree of Financial Leverage (DFL)  \\\n",
              "0                             0.026601   \n",
              "1                             0.264577   \n",
              "2                             0.026555   \n",
              "\n",
              "    Interest Coverage Ratio (Interest expense to EBIT)   Net Income Flag  \\\n",
              "0                                           0.564050                   1   \n",
              "1                                           0.570175                   1   \n",
              "2                                           0.563706                   1   \n",
              "\n",
              "    Equity to Liability  \n",
              "0              0.016469  \n",
              "1              0.020794  \n",
              "2              0.016474  \n",
              "\n",
              "[3 rows x 96 columns]"
            ],
            "text/html": [
              "\n",
              "  <div id=\"df-7ff52005-8d10-4ec4-a4ab-afc9db0d15ae\">\n",
              "    <div class=\"colab-df-container\">\n",
              "      <div>\n",
              "<style scoped>\n",
              "    .dataframe tbody tr th:only-of-type {\n",
              "        vertical-align: middle;\n",
              "    }\n",
              "\n",
              "    .dataframe tbody tr th {\n",
              "        vertical-align: top;\n",
              "    }\n",
              "\n",
              "    .dataframe thead th {\n",
              "        text-align: right;\n",
              "    }\n",
              "</style>\n",
              "<table border=\"1\" class=\"dataframe\">\n",
              "  <thead>\n",
              "    <tr style=\"text-align: right;\">\n",
              "      <th></th>\n",
              "      <th>Bankrupt?</th>\n",
              "      <th>ROA(C) before interest and depreciation before interest</th>\n",
              "      <th>ROA(A) before interest and % after tax</th>\n",
              "      <th>ROA(B) before interest and depreciation after tax</th>\n",
              "      <th>Operating Gross Margin</th>\n",
              "      <th>Realized Sales Gross Margin</th>\n",
              "      <th>Operating Profit Rate</th>\n",
              "      <th>Pre-tax net Interest Rate</th>\n",
              "      <th>After-tax net Interest Rate</th>\n",
              "      <th>Non-industry income and expenditure/revenue</th>\n",
              "      <th>...</th>\n",
              "      <th>Net Income to Total Assets</th>\n",
              "      <th>Total assets to GNP price</th>\n",
              "      <th>No-credit Interval</th>\n",
              "      <th>Gross Profit to Sales</th>\n",
              "      <th>Net Income to Stockholder's Equity</th>\n",
              "      <th>Liability to Equity</th>\n",
              "      <th>Degree of Financial Leverage (DFL)</th>\n",
              "      <th>Interest Coverage Ratio (Interest expense to EBIT)</th>\n",
              "      <th>Net Income Flag</th>\n",
              "      <th>Equity to Liability</th>\n",
              "    </tr>\n",
              "  </thead>\n",
              "  <tbody>\n",
              "    <tr>\n",
              "      <th>0</th>\n",
              "      <td>1</td>\n",
              "      <td>0.370594</td>\n",
              "      <td>0.424389</td>\n",
              "      <td>0.405750</td>\n",
              "      <td>0.601457</td>\n",
              "      <td>0.601457</td>\n",
              "      <td>0.998969</td>\n",
              "      <td>0.796887</td>\n",
              "      <td>0.808809</td>\n",
              "      <td>0.302646</td>\n",
              "      <td>...</td>\n",
              "      <td>0.716845</td>\n",
              "      <td>0.009219</td>\n",
              "      <td>0.622879</td>\n",
              "      <td>0.601453</td>\n",
              "      <td>0.827890</td>\n",
              "      <td>0.290202</td>\n",
              "      <td>0.026601</td>\n",
              "      <td>0.564050</td>\n",
              "      <td>1</td>\n",
              "      <td>0.016469</td>\n",
              "    </tr>\n",
              "    <tr>\n",
              "      <th>1</th>\n",
              "      <td>1</td>\n",
              "      <td>0.464291</td>\n",
              "      <td>0.538214</td>\n",
              "      <td>0.516730</td>\n",
              "      <td>0.610235</td>\n",
              "      <td>0.610235</td>\n",
              "      <td>0.998946</td>\n",
              "      <td>0.797380</td>\n",
              "      <td>0.809301</td>\n",
              "      <td>0.303556</td>\n",
              "      <td>...</td>\n",
              "      <td>0.795297</td>\n",
              "      <td>0.008323</td>\n",
              "      <td>0.623652</td>\n",
              "      <td>0.610237</td>\n",
              "      <td>0.839969</td>\n",
              "      <td>0.283846</td>\n",
              "      <td>0.264577</td>\n",
              "      <td>0.570175</td>\n",
              "      <td>1</td>\n",
              "      <td>0.020794</td>\n",
              "    </tr>\n",
              "    <tr>\n",
              "      <th>2</th>\n",
              "      <td>1</td>\n",
              "      <td>0.426071</td>\n",
              "      <td>0.499019</td>\n",
              "      <td>0.472295</td>\n",
              "      <td>0.601450</td>\n",
              "      <td>0.601364</td>\n",
              "      <td>0.998857</td>\n",
              "      <td>0.796403</td>\n",
              "      <td>0.808388</td>\n",
              "      <td>0.302035</td>\n",
              "      <td>...</td>\n",
              "      <td>0.774670</td>\n",
              "      <td>0.040003</td>\n",
              "      <td>0.623841</td>\n",
              "      <td>0.601449</td>\n",
              "      <td>0.836774</td>\n",
              "      <td>0.290189</td>\n",
              "      <td>0.026555</td>\n",
              "      <td>0.563706</td>\n",
              "      <td>1</td>\n",
              "      <td>0.016474</td>\n",
              "    </tr>\n",
              "  </tbody>\n",
              "</table>\n",
              "<p>3 rows × 96 columns</p>\n",
              "</div>\n",
              "      <button class=\"colab-df-convert\" onclick=\"convertToInteractive('df-7ff52005-8d10-4ec4-a4ab-afc9db0d15ae')\"\n",
              "              title=\"Convert this dataframe to an interactive table.\"\n",
              "              style=\"display:none;\">\n",
              "        \n",
              "  <svg xmlns=\"http://www.w3.org/2000/svg\" height=\"24px\"viewBox=\"0 0 24 24\"\n",
              "       width=\"24px\">\n",
              "    <path d=\"M0 0h24v24H0V0z\" fill=\"none\"/>\n",
              "    <path d=\"M18.56 5.44l.94 2.06.94-2.06 2.06-.94-2.06-.94-.94-2.06-.94 2.06-2.06.94zm-11 1L8.5 8.5l.94-2.06 2.06-.94-2.06-.94L8.5 2.5l-.94 2.06-2.06.94zm10 10l.94 2.06.94-2.06 2.06-.94-2.06-.94-.94-2.06-.94 2.06-2.06.94z\"/><path d=\"M17.41 7.96l-1.37-1.37c-.4-.4-.92-.59-1.43-.59-.52 0-1.04.2-1.43.59L10.3 9.45l-7.72 7.72c-.78.78-.78 2.05 0 2.83L4 21.41c.39.39.9.59 1.41.59.51 0 1.02-.2 1.41-.59l7.78-7.78 2.81-2.81c.8-.78.8-2.07 0-2.86zM5.41 20L4 18.59l7.72-7.72 1.47 1.35L5.41 20z\"/>\n",
              "  </svg>\n",
              "      </button>\n",
              "      \n",
              "  <style>\n",
              "    .colab-df-container {\n",
              "      display:flex;\n",
              "      flex-wrap:wrap;\n",
              "      gap: 12px;\n",
              "    }\n",
              "\n",
              "    .colab-df-convert {\n",
              "      background-color: #E8F0FE;\n",
              "      border: none;\n",
              "      border-radius: 50%;\n",
              "      cursor: pointer;\n",
              "      display: none;\n",
              "      fill: #1967D2;\n",
              "      height: 32px;\n",
              "      padding: 0 0 0 0;\n",
              "      width: 32px;\n",
              "    }\n",
              "\n",
              "    .colab-df-convert:hover {\n",
              "      background-color: #E2EBFA;\n",
              "      box-shadow: 0px 1px 2px rgba(60, 64, 67, 0.3), 0px 1px 3px 1px rgba(60, 64, 67, 0.15);\n",
              "      fill: #174EA6;\n",
              "    }\n",
              "\n",
              "    [theme=dark] .colab-df-convert {\n",
              "      background-color: #3B4455;\n",
              "      fill: #D2E3FC;\n",
              "    }\n",
              "\n",
              "    [theme=dark] .colab-df-convert:hover {\n",
              "      background-color: #434B5C;\n",
              "      box-shadow: 0px 1px 3px 1px rgba(0, 0, 0, 0.15);\n",
              "      filter: drop-shadow(0px 1px 2px rgba(0, 0, 0, 0.3));\n",
              "      fill: #FFFFFF;\n",
              "    }\n",
              "  </style>\n",
              "\n",
              "      <script>\n",
              "        const buttonEl =\n",
              "          document.querySelector('#df-7ff52005-8d10-4ec4-a4ab-afc9db0d15ae button.colab-df-convert');\n",
              "        buttonEl.style.display =\n",
              "          google.colab.kernel.accessAllowed ? 'block' : 'none';\n",
              "\n",
              "        async function convertToInteractive(key) {\n",
              "          const element = document.querySelector('#df-7ff52005-8d10-4ec4-a4ab-afc9db0d15ae');\n",
              "          const dataTable =\n",
              "            await google.colab.kernel.invokeFunction('convertToInteractive',\n",
              "                                                     [key], {});\n",
              "          if (!dataTable) return;\n",
              "\n",
              "          const docLinkHtml = 'Like what you see? Visit the ' +\n",
              "            '<a target=\"_blank\" href=https://colab.research.google.com/notebooks/data_table.ipynb>data table notebook</a>'\n",
              "            + ' to learn more about interactive tables.';\n",
              "          element.innerHTML = '';\n",
              "          dataTable['output_type'] = 'display_data';\n",
              "          await google.colab.output.renderOutput(dataTable, element);\n",
              "          const docLink = document.createElement('div');\n",
              "          docLink.innerHTML = docLinkHtml;\n",
              "          element.appendChild(docLink);\n",
              "        }\n",
              "      </script>\n",
              "    </div>\n",
              "  </div>\n",
              "  "
            ]
          },
          "metadata": {},
          "execution_count": 78
        }
      ]
    },
    {
      "cell_type": "code",
      "source": [
        "# list column names\n",
        "data.columns"
      ],
      "metadata": {
        "colab": {
          "base_uri": "https://localhost:8080/"
        },
        "id": "KRZOqnfHNK9N",
        "outputId": "73e07686-aaa6-459a-d28e-e14c647da8c7"
      },
      "execution_count": 79,
      "outputs": [
        {
          "output_type": "execute_result",
          "data": {
            "text/plain": [
              "Index(['Bankrupt?', ' ROA(C) before interest and depreciation before interest',\n",
              "       ' ROA(A) before interest and % after tax',\n",
              "       ' ROA(B) before interest and depreciation after tax',\n",
              "       ' Operating Gross Margin', ' Realized Sales Gross Margin',\n",
              "       ' Operating Profit Rate', ' Pre-tax net Interest Rate',\n",
              "       ' After-tax net Interest Rate',\n",
              "       ' Non-industry income and expenditure/revenue',\n",
              "       ' Continuous interest rate (after tax)', ' Operating Expense Rate',\n",
              "       ' Research and development expense rate', ' Cash flow rate',\n",
              "       ' Interest-bearing debt interest rate', ' Tax rate (A)',\n",
              "       ' Net Value Per Share (B)', ' Net Value Per Share (A)',\n",
              "       ' Net Value Per Share (C)', ' Persistent EPS in the Last Four Seasons',\n",
              "       ' Cash Flow Per Share', ' Revenue Per Share (Yuan ¥)',\n",
              "       ' Operating Profit Per Share (Yuan ¥)',\n",
              "       ' Per Share Net profit before tax (Yuan ¥)',\n",
              "       ' Realized Sales Gross Profit Growth Rate',\n",
              "       ' Operating Profit Growth Rate', ' After-tax Net Profit Growth Rate',\n",
              "       ' Regular Net Profit Growth Rate', ' Continuous Net Profit Growth Rate',\n",
              "       ' Total Asset Growth Rate', ' Net Value Growth Rate',\n",
              "       ' Total Asset Return Growth Rate Ratio', ' Cash Reinvestment %',\n",
              "       ' Current Ratio', ' Quick Ratio', ' Interest Expense Ratio',\n",
              "       ' Total debt/Total net worth', ' Debt ratio %', ' Net worth/Assets',\n",
              "       ' Long-term fund suitability ratio (A)', ' Borrowing dependency',\n",
              "       ' Contingent liabilities/Net worth',\n",
              "       ' Operating profit/Paid-in capital',\n",
              "       ' Net profit before tax/Paid-in capital',\n",
              "       ' Inventory and accounts receivable/Net value', ' Total Asset Turnover',\n",
              "       ' Accounts Receivable Turnover', ' Average Collection Days',\n",
              "       ' Inventory Turnover Rate (times)', ' Fixed Assets Turnover Frequency',\n",
              "       ' Net Worth Turnover Rate (times)', ' Revenue per person',\n",
              "       ' Operating profit per person', ' Allocation rate per person',\n",
              "       ' Working Capital to Total Assets', ' Quick Assets/Total Assets',\n",
              "       ' Current Assets/Total Assets', ' Cash/Total Assets',\n",
              "       ' Quick Assets/Current Liability', ' Cash/Current Liability',\n",
              "       ' Current Liability to Assets', ' Operating Funds to Liability',\n",
              "       ' Inventory/Working Capital', ' Inventory/Current Liability',\n",
              "       ' Current Liabilities/Liability', ' Working Capital/Equity',\n",
              "       ' Current Liabilities/Equity', ' Long-term Liability to Current Assets',\n",
              "       ' Retained Earnings to Total Assets', ' Total income/Total expense',\n",
              "       ' Total expense/Assets', ' Current Asset Turnover Rate',\n",
              "       ' Quick Asset Turnover Rate', ' Working capitcal Turnover Rate',\n",
              "       ' Cash Turnover Rate', ' Cash Flow to Sales', ' Fixed Assets to Assets',\n",
              "       ' Current Liability to Liability', ' Current Liability to Equity',\n",
              "       ' Equity to Long-term Liability', ' Cash Flow to Total Assets',\n",
              "       ' Cash Flow to Liability', ' CFO to Assets', ' Cash Flow to Equity',\n",
              "       ' Current Liability to Current Assets', ' Liability-Assets Flag',\n",
              "       ' Net Income to Total Assets', ' Total assets to GNP price',\n",
              "       ' No-credit Interval', ' Gross Profit to Sales',\n",
              "       ' Net Income to Stockholder's Equity', ' Liability to Equity',\n",
              "       ' Degree of Financial Leverage (DFL)',\n",
              "       ' Interest Coverage Ratio (Interest expense to EBIT)',\n",
              "       ' Net Income Flag', ' Equity to Liability'],\n",
              "      dtype='object')"
            ]
          },
          "metadata": {},
          "execution_count": 79
        }
      ]
    },
    {
      "cell_type": "code",
      "source": [
        "# Check for na's\n",
        "data.isna().sum().sum()"
      ],
      "metadata": {
        "colab": {
          "base_uri": "https://localhost:8080/"
        },
        "id": "Z2ljaJl4NK6n",
        "outputId": "7e8e9423-9afd-4290-f42f-1099f8133552"
      },
      "execution_count": 80,
      "outputs": [
        {
          "output_type": "execute_result",
          "data": {
            "text/plain": [
              "0"
            ]
          },
          "metadata": {},
          "execution_count": 80
        }
      ]
    },
    {
      "cell_type": "code",
      "source": [
        "#!pip install shutup"
      ],
      "metadata": {
        "id": "MU6MKwW-PLqC"
      },
      "execution_count": 81,
      "outputs": []
    },
    {
      "cell_type": "code",
      "source": [
        "import shutup\n",
        "shutup.please()\n",
        "\n",
        "# clean some of the column names\n",
        "data.columns = data.columns.str.replace(\"?\",\"\")\n",
        "data.columns = data.columns.str.replace(\"(\",\"_\")\n",
        "data.columns = data.columns.str.replace(\")\",\"\")"
      ],
      "metadata": {
        "id": "r9qXnPrIOknW"
      },
      "execution_count": 82,
      "outputs": []
    },
    {
      "cell_type": "code",
      "source": [
        "data.columns"
      ],
      "metadata": {
        "colab": {
          "base_uri": "https://localhost:8080/"
        },
        "id": "ruLrpJzp9xcu",
        "outputId": "2e2bc8c6-cf55-480e-ee00-9e51379749a5"
      },
      "execution_count": 83,
      "outputs": [
        {
          "output_type": "execute_result",
          "data": {
            "text/plain": [
              "Index(['Bankrupt', ' ROA_C before interest and depreciation before interest',\n",
              "       ' ROA_A before interest and % after tax',\n",
              "       ' ROA_B before interest and depreciation after tax',\n",
              "       ' Operating Gross Margin', ' Realized Sales Gross Margin',\n",
              "       ' Operating Profit Rate', ' Pre-tax net Interest Rate',\n",
              "       ' After-tax net Interest Rate',\n",
              "       ' Non-industry income and expenditure/revenue',\n",
              "       ' Continuous interest rate _after tax', ' Operating Expense Rate',\n",
              "       ' Research and development expense rate', ' Cash flow rate',\n",
              "       ' Interest-bearing debt interest rate', ' Tax rate _A',\n",
              "       ' Net Value Per Share _B', ' Net Value Per Share _A',\n",
              "       ' Net Value Per Share _C', ' Persistent EPS in the Last Four Seasons',\n",
              "       ' Cash Flow Per Share', ' Revenue Per Share _Yuan ¥',\n",
              "       ' Operating Profit Per Share _Yuan ¥',\n",
              "       ' Per Share Net profit before tax _Yuan ¥',\n",
              "       ' Realized Sales Gross Profit Growth Rate',\n",
              "       ' Operating Profit Growth Rate', ' After-tax Net Profit Growth Rate',\n",
              "       ' Regular Net Profit Growth Rate', ' Continuous Net Profit Growth Rate',\n",
              "       ' Total Asset Growth Rate', ' Net Value Growth Rate',\n",
              "       ' Total Asset Return Growth Rate Ratio', ' Cash Reinvestment %',\n",
              "       ' Current Ratio', ' Quick Ratio', ' Interest Expense Ratio',\n",
              "       ' Total debt/Total net worth', ' Debt ratio %', ' Net worth/Assets',\n",
              "       ' Long-term fund suitability ratio _A', ' Borrowing dependency',\n",
              "       ' Contingent liabilities/Net worth',\n",
              "       ' Operating profit/Paid-in capital',\n",
              "       ' Net profit before tax/Paid-in capital',\n",
              "       ' Inventory and accounts receivable/Net value', ' Total Asset Turnover',\n",
              "       ' Accounts Receivable Turnover', ' Average Collection Days',\n",
              "       ' Inventory Turnover Rate _times', ' Fixed Assets Turnover Frequency',\n",
              "       ' Net Worth Turnover Rate _times', ' Revenue per person',\n",
              "       ' Operating profit per person', ' Allocation rate per person',\n",
              "       ' Working Capital to Total Assets', ' Quick Assets/Total Assets',\n",
              "       ' Current Assets/Total Assets', ' Cash/Total Assets',\n",
              "       ' Quick Assets/Current Liability', ' Cash/Current Liability',\n",
              "       ' Current Liability to Assets', ' Operating Funds to Liability',\n",
              "       ' Inventory/Working Capital', ' Inventory/Current Liability',\n",
              "       ' Current Liabilities/Liability', ' Working Capital/Equity',\n",
              "       ' Current Liabilities/Equity', ' Long-term Liability to Current Assets',\n",
              "       ' Retained Earnings to Total Assets', ' Total income/Total expense',\n",
              "       ' Total expense/Assets', ' Current Asset Turnover Rate',\n",
              "       ' Quick Asset Turnover Rate', ' Working capitcal Turnover Rate',\n",
              "       ' Cash Turnover Rate', ' Cash Flow to Sales', ' Fixed Assets to Assets',\n",
              "       ' Current Liability to Liability', ' Current Liability to Equity',\n",
              "       ' Equity to Long-term Liability', ' Cash Flow to Total Assets',\n",
              "       ' Cash Flow to Liability', ' CFO to Assets', ' Cash Flow to Equity',\n",
              "       ' Current Liability to Current Assets', ' Liability-Assets Flag',\n",
              "       ' Net Income to Total Assets', ' Total assets to GNP price',\n",
              "       ' No-credit Interval', ' Gross Profit to Sales',\n",
              "       ' Net Income to Stockholder's Equity', ' Liability to Equity',\n",
              "       ' Degree of Financial Leverage _DFL',\n",
              "       ' Interest Coverage Ratio _Interest expense to EBIT',\n",
              "       ' Net Income Flag', ' Equity to Liability'],\n",
              "      dtype='object')"
            ]
          },
          "metadata": {},
          "execution_count": 83
        }
      ]
    },
    {
      "cell_type": "code",
      "source": [
        "# check for any empty rows\n",
        "data.isna().sum(axis=1).sum()"
      ],
      "metadata": {
        "colab": {
          "base_uri": "https://localhost:8080/"
        },
        "id": "jUaLm4pbNK3z",
        "outputId": "7aa83a48-feaa-4125-f11a-8d89e936aa3d"
      },
      "execution_count": 84,
      "outputs": [
        {
          "output_type": "execute_result",
          "data": {
            "text/plain": [
              "0"
            ]
          },
          "metadata": {},
          "execution_count": 84
        }
      ]
    },
    {
      "cell_type": "code",
      "source": [
        "# seperate IV  from DV\n",
        "X = data.drop(['Bankrupt'],axis = 1)\n",
        "y = data.pop('Bankrupt')"
      ],
      "metadata": {
        "id": "rUBdQm8WQOhw"
      },
      "execution_count": 85,
      "outputs": []
    },
    {
      "cell_type": "code",
      "source": [
        "# Create train test split\n",
        "X_train, X_test, y_train,y_test = train_test_split(X, y, stratify=y, test_size=.2, random_state=1,\n",
        "                                    shuffle=True)"
      ],
      "metadata": {
        "id": "ygvKq3tTMwNt"
      },
      "execution_count": 86,
      "outputs": []
    },
    {
      "cell_type": "code",
      "source": [
        "y_train.value_counts(1)"
      ],
      "metadata": {
        "colab": {
          "base_uri": "https://localhost:8080/"
        },
        "id": "QsoYxl-MOgjE",
        "outputId": "fce74444-5356-4835-a0c0-377b7479859b"
      },
      "execution_count": 87,
      "outputs": [
        {
          "output_type": "execute_result",
          "data": {
            "text/plain": [
              "0    0.967736\n",
              "1    0.032264\n",
              "Name: Bankrupt, dtype: float64"
            ]
          },
          "metadata": {},
          "execution_count": 87
        }
      ]
    },
    {
      "cell_type": "code",
      "source": [
        "# Scale the test and train data\n",
        "std = StandardScaler()\n",
        "\n",
        "X_train = std.fit_transform(X_train)\n",
        "X_test = std.transform(X_test)"
      ],
      "metadata": {
        "id": "wdQrAxYRQLVd"
      },
      "execution_count": 88,
      "outputs": []
    },
    {
      "cell_type": "code",
      "source": [
        "# change scaled data back to df\n",
        "X_train = pd.DataFrame(X_train, columns=X.columns)\n",
        "X_test = pd.DataFrame(X_test, columns=X.columns)"
      ],
      "metadata": {
        "id": "8C_bGIyeuyGe"
      },
      "execution_count": 89,
      "outputs": []
    },
    {
      "cell_type": "markdown",
      "source": [
        "Feature selection"
      ],
      "metadata": {
        "id": "wqdAfkc9--B8"
      }
    },
    {
      "cell_type": "code",
      "source": [
        "# use random forest for feature selecton\n",
        "sel = SelectFromModel(RandomForestClassifier(n_estimators = 300, max_depth=90))\n",
        "sel.fit(X_train, y_train)"
      ],
      "metadata": {
        "colab": {
          "base_uri": "https://localhost:8080/"
        },
        "id": "-fopUsiSt5mm",
        "outputId": "b2b43b85-802a-4f4a-9fb6-ae660df0e926"
      },
      "execution_count": 90,
      "outputs": [
        {
          "output_type": "execute_result",
          "data": {
            "text/plain": [
              "SelectFromModel(estimator=RandomForestClassifier(max_depth=90,\n",
              "                                                 n_estimators=300))"
            ]
          },
          "metadata": {},
          "execution_count": 90
        }
      ]
    },
    {
      "cell_type": "code",
      "source": [
        "# assign important features that random forest gave to a list to use later\n",
        "selected_feat= X_train.columns[(sel.get_support())]\n",
        "\n",
        "#compare length of selected features with original column length\n",
        "print(\"Columns before: \", len(X_train.columns), \"| Columns after: \", len(selected_feat))"
      ],
      "metadata": {
        "colab": {
          "base_uri": "https://localhost:8080/"
        },
        "id": "7nY6fZXyt8X2",
        "outputId": "e949d89f-5006-453c-bb6c-665411ed2573"
      },
      "execution_count": 91,
      "outputs": [
        {
          "output_type": "stream",
          "name": "stdout",
          "text": [
            "Columns before:  95 | Columns after:  39\n"
          ]
        }
      ]
    },
    {
      "cell_type": "code",
      "source": [
        "selected_feat"
      ],
      "metadata": {
        "colab": {
          "base_uri": "https://localhost:8080/"
        },
        "id": "MuTPojO4wGnF",
        "outputId": "c449fa2a-dd21-48a5-852b-ad491425f7c0"
      },
      "execution_count": 92,
      "outputs": [
        {
          "output_type": "execute_result",
          "data": {
            "text/plain": [
              "Index([' ROA_C before interest and depreciation before interest',\n",
              "       ' ROA_A before interest and % after tax',\n",
              "       ' ROA_B before interest and depreciation after tax',\n",
              "       ' Pre-tax net Interest Rate', ' After-tax net Interest Rate',\n",
              "       ' Non-industry income and expenditure/revenue',\n",
              "       ' Continuous interest rate _after tax', ' Net Value Per Share _B',\n",
              "       ' Net Value Per Share _A', ' Net Value Per Share _C',\n",
              "       ' Persistent EPS in the Last Four Seasons',\n",
              "       ' Per Share Net profit before tax _Yuan ¥',\n",
              "       ' Operating Profit Growth Rate', ' Interest Expense Ratio',\n",
              "       ' Debt ratio %', ' Net worth/Assets', ' Borrowing dependency',\n",
              "       ' Net profit before tax/Paid-in capital',\n",
              "       ' Inventory and accounts receivable/Net value',\n",
              "       ' Operating profit per person', ' Working Capital to Total Assets',\n",
              "       ' Quick Assets/Total Assets', ' Cash/Total Assets',\n",
              "       ' Current Liability to Assets', ' Inventory/Working Capital',\n",
              "       ' Working Capital/Equity', ' Current Liabilities/Equity',\n",
              "       ' Retained Earnings to Total Assets', ' Total income/Total expense',\n",
              "       ' Working capitcal Turnover Rate', ' Current Liability to Equity',\n",
              "       ' Equity to Long-term Liability', ' Net Income to Total Assets',\n",
              "       ' No-credit Interval', ' Net Income to Stockholder's Equity',\n",
              "       ' Liability to Equity', ' Degree of Financial Leverage _DFL',\n",
              "       ' Interest Coverage Ratio _Interest expense to EBIT',\n",
              "       ' Equity to Liability'],\n",
              "      dtype='object')"
            ]
          },
          "metadata": {},
          "execution_count": 92
        }
      ]
    },
    {
      "cell_type": "markdown",
      "source": [
        "Neural Network with 1 layer and 30 neuron"
      ],
      "metadata": {
        "id": "iMhKFI_U_VlL"
      }
    },
    {
      "cell_type": "code",
      "source": [
        "#set length of columns as input shape\n",
        "n_cols = X_train[selected_feat].shape[1]"
      ],
      "metadata": {
        "id": "Kl1auTij_jcg"
      },
      "execution_count": 93,
      "outputs": []
    },
    {
      "cell_type": "code",
      "source": [
        "# set up early stopping\n",
        "early_stop =  EarlyStopping(mode='max', verbose=1, patience=22)"
      ],
      "metadata": {
        "id": "senA7gqzQz_-"
      },
      "execution_count": 94,
      "outputs": []
    },
    {
      "cell_type": "code",
      "source": [
        "# initialize the model\n",
        "model =  Sequential()"
      ],
      "metadata": {
        "id": "fgvMO1zLQ9U-"
      },
      "execution_count": 95,
      "outputs": []
    },
    {
      "cell_type": "code",
      "source": [
        "# Set up evaluation metrics\n",
        "def auc(y_true, y_pred):\n",
        "    auc = tf.metrics.AUC(y_true, y_pred)[1]\n",
        "    K.get_session().run(tf.local_variables_initializer())\n",
        "    return auc"
      ],
      "metadata": {
        "id": "IHilyFi8063_"
      },
      "execution_count": 96,
      "outputs": []
    },
    {
      "cell_type": "code",
      "source": [
        "# set up the layers\n",
        "nn_one_layer = tf.keras.Sequential()\n",
        "nn_one_layer.add(tf.keras.layers.Dense(30, input_shape=(n_cols,),  activation='sigmoid'))\n",
        "#nn_one_layer.add(tf.keras.layers.Dense(2))\n",
        "\n",
        "#compile the model\n",
        "nn_one_layer.compile(optimizer='Adam', loss='mse')"
      ],
      "metadata": {
        "id": "K-e1SnS9Q-KQ"
      },
      "execution_count": 97,
      "outputs": []
    },
    {
      "cell_type": "code",
      "source": [
        "nn_one_layer.layers"
      ],
      "metadata": {
        "colab": {
          "base_uri": "https://localhost:8080/"
        },
        "id": "uus0lHrQEDPH",
        "outputId": "1b62f135-1486-47be-9638-392a7aa7c7ad"
      },
      "execution_count": 98,
      "outputs": [
        {
          "output_type": "execute_result",
          "data": {
            "text/plain": [
              "[<keras.layers.core.dense.Dense at 0x7f9b22766890>]"
            ]
          },
          "metadata": {},
          "execution_count": 98
        }
      ]
    },
    {
      "cell_type": "code",
      "source": [
        "# Train model\n",
        "nn_one_layer.fit(x=X_train[selected_feat], \n",
        "          y=y_train, \n",
        "          epochs=30,\n",
        "          validation_data=(X_test[selected_feat], y_test), verbose=1,\n",
        "          callbacks=[early_stop])"
      ],
      "metadata": {
        "colab": {
          "base_uri": "https://localhost:8080/"
        },
        "id": "wKNiWtKiRFuo",
        "outputId": "9c5bd6a3-2374-47da-c530-41f441ecc444"
      },
      "execution_count": 99,
      "outputs": [
        {
          "output_type": "stream",
          "name": "stdout",
          "text": [
            "Epoch 1/30\n",
            "171/171 [==============================] - 1s 3ms/step - loss: 0.2409 - val_loss: 0.2123\n",
            "Epoch 2/30\n",
            "171/171 [==============================] - 0s 2ms/step - loss: 0.1930 - val_loss: 0.1757\n",
            "Epoch 3/30\n",
            "171/171 [==============================] - 0s 2ms/step - loss: 0.1612 - val_loss: 0.1482\n",
            "Epoch 4/30\n",
            "171/171 [==============================] - 0s 2ms/step - loss: 0.1362 - val_loss: 0.1269\n",
            "Epoch 5/30\n",
            "171/171 [==============================] - 0s 2ms/step - loss: 0.1163 - val_loss: 0.1092\n",
            "Epoch 6/30\n",
            "171/171 [==============================] - 0s 2ms/step - loss: 0.1005 - val_loss: 0.0956\n",
            "Epoch 7/30\n",
            "171/171 [==============================] - 0s 2ms/step - loss: 0.0878 - val_loss: 0.0846\n",
            "Epoch 8/30\n",
            "171/171 [==============================] - 0s 2ms/step - loss: 0.0778 - val_loss: 0.0762\n",
            "Epoch 9/30\n",
            "171/171 [==============================] - 0s 2ms/step - loss: 0.0697 - val_loss: 0.0691\n",
            "Epoch 10/30\n",
            "171/171 [==============================] - 0s 2ms/step - loss: 0.0632 - val_loss: 0.0635\n",
            "Epoch 11/30\n",
            "171/171 [==============================] - 0s 2ms/step - loss: 0.0577 - val_loss: 0.0588\n",
            "Epoch 12/30\n",
            "171/171 [==============================] - 0s 2ms/step - loss: 0.0533 - val_loss: 0.0550\n",
            "Epoch 13/30\n",
            "171/171 [==============================] - 0s 2ms/step - loss: 0.0497 - val_loss: 0.0519\n",
            "Epoch 14/30\n",
            "171/171 [==============================] - 0s 2ms/step - loss: 0.0467 - val_loss: 0.0492\n",
            "Epoch 15/30\n",
            "171/171 [==============================] - 0s 2ms/step - loss: 0.0441 - val_loss: 0.0470\n",
            "Epoch 16/30\n",
            "171/171 [==============================] - 0s 2ms/step - loss: 0.0419 - val_loss: 0.0451\n",
            "Epoch 17/30\n",
            "171/171 [==============================] - 0s 2ms/step - loss: 0.0401 - val_loss: 0.0435\n",
            "Epoch 18/30\n",
            "171/171 [==============================] - 0s 2ms/step - loss: 0.0385 - val_loss: 0.0421\n",
            "Epoch 19/30\n",
            "171/171 [==============================] - 0s 2ms/step - loss: 0.0371 - val_loss: 0.0409\n",
            "Epoch 20/30\n",
            "171/171 [==============================] - 0s 2ms/step - loss: 0.0359 - val_loss: 0.0398\n",
            "Epoch 21/30\n",
            "171/171 [==============================] - 0s 2ms/step - loss: 0.0348 - val_loss: 0.0389\n",
            "Epoch 22/30\n",
            "171/171 [==============================] - 0s 2ms/step - loss: 0.0340 - val_loss: 0.0380\n",
            "Epoch 23/30\n",
            "171/171 [==============================] - 0s 2ms/step - loss: 0.0331 - val_loss: 0.0373\n",
            "Epoch 23: early stopping\n"
          ]
        },
        {
          "output_type": "execute_result",
          "data": {
            "text/plain": [
              "<keras.callbacks.History at 0x7f9b2270aa10>"
            ]
          },
          "metadata": {},
          "execution_count": 99
        }
      ]
    },
    {
      "cell_type": "code",
      "source": [
        "print(nn_one_layer.summary())"
      ],
      "metadata": {
        "colab": {
          "base_uri": "https://localhost:8080/"
        },
        "id": "l7KJ2XKEFyQr",
        "outputId": "8a6daa4b-cfb8-4f3a-c289-4024a1caa18f"
      },
      "execution_count": 100,
      "outputs": [
        {
          "output_type": "stream",
          "name": "stdout",
          "text": [
            "Model: \"sequential_4\"\n",
            "_________________________________________________________________\n",
            " Layer (type)                Output Shape              Param #   \n",
            "=================================================================\n",
            " dense_7 (Dense)             (None, 30)                1200      \n",
            "                                                                 \n",
            "=================================================================\n",
            "Total params: 1,200\n",
            "Trainable params: 1,200\n",
            "Non-trainable params: 0\n",
            "_________________________________________________________________\n",
            "None\n"
          ]
        }
      ]
    },
    {
      "cell_type": "code",
      "source": [
        "tf.keras.utils.plot_model(\n",
        "    nn_one_layer\n",
        ")"
      ],
      "metadata": {
        "colab": {
          "base_uri": "https://localhost:8080/",
          "height": 174
        },
        "id": "--fN8O0KEsQi",
        "outputId": "aad558db-8379-4e77-cac0-b2bfa8ca8407"
      },
      "execution_count": 101,
      "outputs": [
        {
          "output_type": "execute_result",
          "data": {
            "text/plain": [
              "<IPython.core.display.Image object>"
            ],
            "image/png": "[encoded data removed]"
          },
          "metadata": {},
          "execution_count": 101
        }
      ]
    },
    {
      "cell_type": "code",
      "source": [
        "performances = {}\n",
        "# save evaluation results to compare later\n",
        "probabilities   = pd.DataFrame(nn_one_layer.predict(X_test[selected_feat]))\n",
        "predictions = np.where(probabilities[1]> 0.5, 1, 0)\n",
        "\n",
        "nn_one_layer_auc = roc_auc_score(y_test.values, probabilities[1].values)\n",
        "nn_one_layer_accuracy = accuracy_score(y_test.values, predictions)\n",
        "\n",
        "performances[\"nn_one_layer\"] = {\"Accuracy\":nn_one_layer_auc,\"AUC\":nn_one_layer_accuracy}"
      ],
      "metadata": {
        "id": "lcLq9NX32mpJ"
      },
      "execution_count": 102,
      "outputs": []
    },
    {
      "cell_type": "markdown",
      "source": [
        "Neural network with multiple hidden layers (Deep Neural network)"
      ],
      "metadata": {
        "id": "2c1kJNGbAOCm"
      }
    },
    {
      "cell_type": "code",
      "source": [
        "# set up neural network layers\n",
        "nn_multi_layer = tf.keras.Sequential()\n",
        "nn_multi_layer.add(tf.keras.layers.Dense(n_cols,  activation='sigmoid'))\n",
        "nn_multi_layer.add(tf.keras.layers.Dense(np.round(n_cols*1.3), activation='sigmoid'))\n",
        "nn_multi_layer.add(tf.keras.layers.Dense(30))\n",
        "nn_multi_layer.add(tf.keras.layers.Dense(25))\n",
        "nn_multi_layer.add(tf.keras.layers.Dense(10, activation='sigmoid'))\n",
        "nn_multi_layer.add(tf.keras.layers.Dense(2))\n",
        "nn_multi_layer.compile(optimizer='Adam', loss='mse')"
      ],
      "metadata": {
        "id": "mCn6AQxCRJz0"
      },
      "execution_count": 103,
      "outputs": []
    },
    {
      "cell_type": "code",
      "source": [
        "# Train the model\n",
        "nn_multi_layer.fit(x=X_train[selected_feat], \n",
        "          y=y_train, \n",
        "          epochs=30,\n",
        "          validation_data=(X_test[selected_feat], y_test), verbose=1,\n",
        "          callbacks=[early_stop])"
      ],
      "metadata": {
        "colab": {
          "base_uri": "https://localhost:8080/"
        },
        "id": "jU5MN_oI6-IV",
        "outputId": "dabfba22-b990-4070-8b24-3796917205ac"
      },
      "execution_count": 104,
      "outputs": [
        {
          "output_type": "stream",
          "name": "stdout",
          "text": [
            "Epoch 1/30\n",
            "171/171 [==============================] - 1s 4ms/step - loss: 0.0546 - val_loss: 0.0290\n",
            "Epoch 2/30\n",
            "171/171 [==============================] - 0s 3ms/step - loss: 0.0282 - val_loss: 0.0281\n",
            "Epoch 3/30\n",
            "171/171 [==============================] - 0s 3ms/step - loss: 0.0272 - val_loss: 0.0280\n",
            "Epoch 4/30\n",
            "171/171 [==============================] - 0s 3ms/step - loss: 0.0264 - val_loss: 0.0286\n",
            "Epoch 5/30\n",
            "171/171 [==============================] - 0s 3ms/step - loss: 0.0257 - val_loss: 0.0285\n",
            "Epoch 6/30\n",
            "171/171 [==============================] - 0s 3ms/step - loss: 0.0250 - val_loss: 0.0268\n",
            "Epoch 7/30\n",
            "171/171 [==============================] - 0s 3ms/step - loss: 0.0243 - val_loss: 0.0262\n",
            "Epoch 8/30\n",
            "171/171 [==============================] - 0s 3ms/step - loss: 0.0242 - val_loss: 0.0262\n",
            "Epoch 9/30\n",
            "171/171 [==============================] - 1s 4ms/step - loss: 0.0241 - val_loss: 0.0262\n",
            "Epoch 10/30\n",
            "171/171 [==============================] - 1s 5ms/step - loss: 0.0240 - val_loss: 0.0266\n",
            "Epoch 11/30\n",
            "171/171 [==============================] - 0s 3ms/step - loss: 0.0236 - val_loss: 0.0262\n",
            "Epoch 12/30\n",
            "171/171 [==============================] - 0s 3ms/step - loss: 0.0238 - val_loss: 0.0260\n",
            "Epoch 13/30\n",
            "171/171 [==============================] - 0s 3ms/step - loss: 0.0233 - val_loss: 0.0264\n",
            "Epoch 14/30\n",
            "171/171 [==============================] - 0s 3ms/step - loss: 0.0231 - val_loss: 0.0259\n",
            "Epoch 15/30\n",
            "171/171 [==============================] - 0s 3ms/step - loss: 0.0234 - val_loss: 0.0260\n",
            "Epoch 16/30\n",
            "171/171 [==============================] - 0s 3ms/step - loss: 0.0232 - val_loss: 0.0262\n",
            "Epoch 17/30\n",
            "171/171 [==============================] - 0s 3ms/step - loss: 0.0229 - val_loss: 0.0264\n",
            "Epoch 18/30\n",
            "171/171 [==============================] - 0s 3ms/step - loss: 0.0228 - val_loss: 0.0282\n",
            "Epoch 19/30\n",
            "171/171 [==============================] - 0s 2ms/step - loss: 0.0229 - val_loss: 0.0271\n",
            "Epoch 20/30\n",
            "171/171 [==============================] - 0s 3ms/step - loss: 0.0228 - val_loss: 0.0262\n",
            "Epoch 21/30\n",
            "171/171 [==============================] - 0s 2ms/step - loss: 0.0229 - val_loss: 0.0257\n",
            "Epoch 22/30\n",
            "171/171 [==============================] - 1s 3ms/step - loss: 0.0223 - val_loss: 0.0264\n",
            "Epoch 23/30\n",
            "171/171 [==============================] - 0s 3ms/step - loss: 0.0224 - val_loss: 0.0264\n",
            "Epoch 23: early stopping\n"
          ]
        },
        {
          "output_type": "execute_result",
          "data": {
            "text/plain": [
              "<keras.callbacks.History at 0x7f9b22616450>"
            ]
          },
          "metadata": {},
          "execution_count": 104
        }
      ]
    },
    {
      "cell_type": "code",
      "source": [
        "print(nn_multi_layer.summary())"
      ],
      "metadata": {
        "colab": {
          "base_uri": "https://localhost:8080/"
        },
        "id": "x6H26kc2LEqW",
        "outputId": "9cc14f54-c149-4ec7-8f6a-dd247ad9554a"
      },
      "execution_count": 145,
      "outputs": [
        {
          "output_type": "stream",
          "name": "stdout",
          "text": [
            "Model: \"sequential_5\"\n",
            "_________________________________________________________________\n",
            " Layer (type)                Output Shape              Param #   \n",
            "=================================================================\n",
            " dense_8 (Dense)             (None, 39)                1560      \n",
            "                                                                 \n",
            " dense_9 (Dense)             (None, 51)                2040      \n",
            "                                                                 \n",
            " dense_10 (Dense)            (None, 30)                1560      \n",
            "                                                                 \n",
            " dense_11 (Dense)            (None, 25)                775       \n",
            "                                                                 \n",
            " dense_12 (Dense)            (None, 10)                260       \n",
            "                                                                 \n",
            " dense_13 (Dense)            (None, 2)                 22        \n",
            "                                                                 \n",
            "=================================================================\n",
            "Total params: 6,217\n",
            "Trainable params: 6,217\n",
            "Non-trainable params: 0\n",
            "_________________________________________________________________\n",
            "None\n"
          ]
        }
      ]
    },
    {
      "cell_type": "code",
      "source": [
        "# save performance to compare later\n",
        "probabilities   = pd.DataFrame(nn_multi_layer.predict(X_test[selected_feat]))\n",
        "predictions = np.where(probabilities[1]> 0.5, 1, 0)\n",
        "\n",
        "nn_multi_layer_auc = roc_auc_score(y_test.values, probabilities[1].values)\n",
        "nn_multi_layer_accuracy = accuracy_score(y_test.values, predictions)\n",
        "\n",
        "performances[\"nn_multi_layer\"] = {\"Accuracy\":nn_multi_layer_auc,\"AUC\":nn_multi_layer_accuracy}"
      ],
      "metadata": {
        "id": "B-FtZu9E7Cbn"
      },
      "execution_count": 105,
      "outputs": []
    },
    {
      "cell_type": "markdown",
      "source": [
        "Run additional classification models for comparison"
      ],
      "metadata": {
        "id": "BDhA3I1DAsVI"
      }
    },
    {
      "cell_type": "code",
      "source": [
        "logistic     = LogisticRegression(max_iter = 2000)\n",
        "tree         = DecisionTreeClassifier()\n",
        "randomForest = RandomForestClassifier(max_depth=8, n_estimators=100)\n",
        "boostedTree  = GradientBoostingClassifier(n_estimators=120)\n",
        "XG           = XGBClassifier(max_depth=8, n_estimators=125)\n",
        "KNN          = KNeighborsClassifier(n_neighbors=25)\n",
        "DT           = DecisionTreeClassifier()\n",
        "ADABoost     = AdaBoostClassifier()\n",
        "\n",
        "# create a dict to loop through the models\n",
        "models = {\n",
        "          \"logistic\"     :logistic,\n",
        "          \"tree\"         :tree,\n",
        "          \"randomForest\" :randomForest,\n",
        "          \"boostedTree\"  :boostedTree,\n",
        "          \"XG\"           :XG,\n",
        "          \"KNN\"          :KNN,\n",
        "          \"ADABoost\"     :ADABoost         }"
      ],
      "metadata": {
        "id": "vZ_g719fUWoK"
      },
      "execution_count": 106,
      "outputs": []
    },
    {
      "cell_type": "code",
      "source": [
        "# fit the models\n",
        "shutup.please()\n",
        "for model in models:\n",
        "    random.seed=1\n",
        "    models[model].fit(X_train[selected_feat], y_train)\n",
        "    print(f\"{model} has been trained successfully\")"
      ],
      "metadata": {
        "colab": {
          "base_uri": "https://localhost:8080/"
        },
        "id": "MuleP0JBUw7k",
        "outputId": "e97341ea-dc48-455d-ab09-baeec8f5e530"
      },
      "execution_count": 107,
      "outputs": [
        {
          "output_type": "stream",
          "name": "stdout",
          "text": [
            "logistic has been trained successfully\n",
            "tree has been trained successfully\n",
            "randomForest has been trained successfully\n",
            "boostedTree has been trained successfully\n",
            "XG has been trained successfully\n",
            "KNN has been trained successfully\n",
            "ADABoost has been trained successfully\n"
          ]
        }
      ]
    },
    {
      "cell_type": "code",
      "source": [
        "for model in models:\n",
        "    random.seed=1\n",
        "    predictions   = models[model].predict(X_test[selected_feat])\n",
        "    probabilities = pd.DataFrame(models[model].predict_proba(X_test[selected_feat]))[1]\n",
        "    accuracy      = accuracy_score(y_test,predictions)\n",
        "    auc           = roc_auc_score(np.array(y_test),np.array(probabilities))\n",
        "    \n",
        "    performances[model] = {\"Accuracy\":accuracy,\"AUC\":auc}"
      ],
      "metadata": {
        "id": "GzRuWv-iU2M1"
      },
      "execution_count": 108,
      "outputs": []
    },
    {
      "cell_type": "markdown",
      "source": [
        "Compare models"
      ],
      "metadata": {
        "id": "ydIBc_GtK-YM"
      }
    },
    {
      "cell_type": "code",
      "source": [
        "evaluation = pd.DataFrame(performances).transpose().sort_values(by=[\"AUC\",\"Accuracy\"], ascending=False).T"
      ],
      "metadata": {
        "id": "THnEixr2wZCy"
      },
      "execution_count": 109,
      "outputs": []
    },
    {
      "cell_type": "code",
      "source": [
        "evaluation"
      ],
      "metadata": {
        "colab": {
          "base_uri": "https://localhost:8080/",
          "height": 112
        },
        "id": "Jt3Dr0PQK6BM",
        "outputId": "4576769f-d58e-43d2-c892-8d112ad37763"
      },
      "execution_count": 144,
      "outputs": [
        {
          "output_type": "execute_result",
          "data": {
            "text/plain": [
              "          nn_multi_layer  nn_one_layer  ADABoost        XG  boostedTree  \\\n",
              "Accuracy        0.919456      0.859504  0.969208  0.970674     0.969941   \n",
              "AUC             0.969208      0.963343  0.941615  0.933127     0.931104   \n",
              "\n",
              "          logistic  randomForest       KNN      tree  \n",
              "Accuracy  0.967742      0.969941  0.969208  0.956012  \n",
              "AUC       0.926446      0.914652  0.837767  0.625758  "
            ],
            "text/html": [
              "\n",
              "  <div id=\"df-67c7fde5-a3bd-49c0-9c0e-c696eea8db14\">\n",
              "    <div class=\"colab-df-container\">\n",
              "      <div>\n",
              "<style scoped>\n",
              "    .dataframe tbody tr th:only-of-type {\n",
              "        vertical-align: middle;\n",
              "    }\n",
              "\n",
              "    .dataframe tbody tr th {\n",
              "        vertical-align: top;\n",
              "    }\n",
              "\n",
              "    .dataframe thead th {\n",
              "        text-align: right;\n",
              "    }\n",
              "</style>\n",
              "<table border=\"1\" class=\"dataframe\">\n",
              "  <thead>\n",
              "    <tr style=\"text-align: right;\">\n",
              "      <th></th>\n",
              "      <th>nn_multi_layer</th>\n",
              "      <th>nn_one_layer</th>\n",
              "      <th>ADABoost</th>\n",
              "      <th>XG</th>\n",
              "      <th>boostedTree</th>\n",
              "      <th>logistic</th>\n",
              "      <th>randomForest</th>\n",
              "      <th>KNN</th>\n",
              "      <th>tree</th>\n",
              "    </tr>\n",
              "  </thead>\n",
              "  <tbody>\n",
              "    <tr>\n",
              "      <th>Accuracy</th>\n",
              "      <td>0.919456</td>\n",
              "      <td>0.859504</td>\n",
              "      <td>0.969208</td>\n",
              "      <td>0.970674</td>\n",
              "      <td>0.969941</td>\n",
              "      <td>0.967742</td>\n",
              "      <td>0.969941</td>\n",
              "      <td>0.969208</td>\n",
              "      <td>0.956012</td>\n",
              "    </tr>\n",
              "    <tr>\n",
              "      <th>AUC</th>\n",
              "      <td>0.969208</td>\n",
              "      <td>0.963343</td>\n",
              "      <td>0.941615</td>\n",
              "      <td>0.933127</td>\n",
              "      <td>0.931104</td>\n",
              "      <td>0.926446</td>\n",
              "      <td>0.914652</td>\n",
              "      <td>0.837767</td>\n",
              "      <td>0.625758</td>\n",
              "    </tr>\n",
              "  </tbody>\n",
              "</table>\n",
              "</div>\n",
              "      <button class=\"colab-df-convert\" onclick=\"convertToInteractive('df-67c7fde5-a3bd-49c0-9c0e-c696eea8db14')\"\n",
              "              title=\"Convert this dataframe to an interactive table.\"\n",
              "              style=\"display:none;\">\n",
              "        \n",
              "  <svg xmlns=\"http://www.w3.org/2000/svg\" height=\"24px\"viewBox=\"0 0 24 24\"\n",
              "       width=\"24px\">\n",
              "    <path d=\"M0 0h24v24H0V0z\" fill=\"none\"/>\n",
              "    <path d=\"M18.56 5.44l.94 2.06.94-2.06 2.06-.94-2.06-.94-.94-2.06-.94 2.06-2.06.94zm-11 1L8.5 8.5l.94-2.06 2.06-.94-2.06-.94L8.5 2.5l-.94 2.06-2.06.94zm10 10l.94 2.06.94-2.06 2.06-.94-2.06-.94-.94-2.06-.94 2.06-2.06.94z\"/><path d=\"M17.41 7.96l-1.37-1.37c-.4-.4-.92-.59-1.43-.59-.52 0-1.04.2-1.43.59L10.3 9.45l-7.72 7.72c-.78.78-.78 2.05 0 2.83L4 21.41c.39.39.9.59 1.41.59.51 0 1.02-.2 1.41-.59l7.78-7.78 2.81-2.81c.8-.78.8-2.07 0-2.86zM5.41 20L4 18.59l7.72-7.72 1.47 1.35L5.41 20z\"/>\n",
              "  </svg>\n",
              "      </button>\n",
              "      \n",
              "  <style>\n",
              "    .colab-df-container {\n",
              "      display:flex;\n",
              "      flex-wrap:wrap;\n",
              "      gap: 12px;\n",
              "    }\n",
              "\n",
              "    .colab-df-convert {\n",
              "      background-color: #E8F0FE;\n",
              "      border: none;\n",
              "      border-radius: 50%;\n",
              "      cursor: pointer;\n",
              "      display: none;\n",
              "      fill: #1967D2;\n",
              "      height: 32px;\n",
              "      padding: 0 0 0 0;\n",
              "      width: 32px;\n",
              "    }\n",
              "\n",
              "    .colab-df-convert:hover {\n",
              "      background-color: #E2EBFA;\n",
              "      box-shadow: 0px 1px 2px rgba(60, 64, 67, 0.3), 0px 1px 3px 1px rgba(60, 64, 67, 0.15);\n",
              "      fill: #174EA6;\n",
              "    }\n",
              "\n",
              "    [theme=dark] .colab-df-convert {\n",
              "      background-color: #3B4455;\n",
              "      fill: #D2E3FC;\n",
              "    }\n",
              "\n",
              "    [theme=dark] .colab-df-convert:hover {\n",
              "      background-color: #434B5C;\n",
              "      box-shadow: 0px 1px 3px 1px rgba(0, 0, 0, 0.15);\n",
              "      filter: drop-shadow(0px 1px 2px rgba(0, 0, 0, 0.3));\n",
              "      fill: #FFFFFF;\n",
              "    }\n",
              "  </style>\n",
              "\n",
              "      <script>\n",
              "        const buttonEl =\n",
              "          document.querySelector('#df-67c7fde5-a3bd-49c0-9c0e-c696eea8db14 button.colab-df-convert');\n",
              "        buttonEl.style.display =\n",
              "          google.colab.kernel.accessAllowed ? 'block' : 'none';\n",
              "\n",
              "        async function convertToInteractive(key) {\n",
              "          const element = document.querySelector('#df-67c7fde5-a3bd-49c0-9c0e-c696eea8db14');\n",
              "          const dataTable =\n",
              "            await google.colab.kernel.invokeFunction('convertToInteractive',\n",
              "                                                     [key], {});\n",
              "          if (!dataTable) return;\n",
              "\n",
              "          const docLinkHtml = 'Like what you see? Visit the ' +\n",
              "            '<a target=\"_blank\" href=https://colab.research.google.com/notebooks/data_table.ipynb>data table notebook</a>'\n",
              "            + ' to learn more about interactive tables.';\n",
              "          element.innerHTML = '';\n",
              "          dataTable['output_type'] = 'display_data';\n",
              "          await google.colab.output.renderOutput(dataTable, element);\n",
              "          const docLink = document.createElement('div');\n",
              "          docLink.innerHTML = docLinkHtml;\n",
              "          element.appendChild(docLink);\n",
              "        }\n",
              "      </script>\n",
              "    </div>\n",
              "  </div>\n",
              "  "
            ]
          },
          "metadata": {},
          "execution_count": 144
        }
      ]
    },
    {
      "cell_type": "code",
      "source": [
        "evaluation.loc[\"Accuracy\"].plot(kind=\"bar\", use_index=True)"
      ],
      "metadata": {
        "colab": {
          "base_uri": "https://localhost:8080/",
          "height": 346
        },
        "id": "YxnreHM7HHpe",
        "outputId": "b9bff752-f78c-4ac4-8975-f12b1faa2114"
      },
      "execution_count": 143,
      "outputs": [
        {
          "output_type": "execute_result",
          "data": {
            "text/plain": [
              "<matplotlib.axes._subplots.AxesSubplot at 0x7f9b2255cb90>"
            ]
          },
          "metadata": {},
          "execution_count": 143
        },
        {
          "output_type": "display_data",
          "data": {
            "text/plain": [
              "<Figure size 432x288 with 1 Axes>"
            ],
            "image/png": "[encoded data removed]"
          },
          "metadata": {
            "needs_background": "light"
          }
        }
      ]
    },
    {
      "cell_type": "code",
      "source": [
        "evaluation.loc[\"AUC\"].plot(kind=\"bar\", use_index=True)"
      ],
      "metadata": {
        "colab": {
          "base_uri": "https://localhost:8080/",
          "height": 346
        },
        "id": "AAKZONU1HxaY",
        "outputId": "6a81ea81-448c-41fc-fa48-22435846d0cd"
      },
      "execution_count": 140,
      "outputs": [
        {
          "output_type": "execute_result",
          "data": {
            "text/plain": [
              "<matplotlib.axes._subplots.AxesSubplot at 0x7f9b2257f590>"
            ]
          },
          "metadata": {},
          "execution_count": 140
        },
        {
          "output_type": "display_data",
          "data": {
            "text/plain": [
              "<Figure size 432x288 with 1 Axes>"
            ],
            "image/png": "[encoded data removed]"
          },
          "metadata": {
            "needs_background": "light"
          }
        }
      ]
    },
    {
      "cell_type": "code",
      "source": [
        ""
      ],
      "metadata": {
        "id": "cRPlg7hII22a"
      },
      "execution_count": 111,
      "outputs": []
    }
  ]
}