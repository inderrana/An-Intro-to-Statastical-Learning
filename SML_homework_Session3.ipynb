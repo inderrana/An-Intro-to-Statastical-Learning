{
 "cells": [
  {
   "cell_type": "code",
   "execution_count": 139,
   "metadata": {},
   "outputs": [],
   "source": [
    "library(boot)\n",
    "library(dplyr)\n",
    "library(glmnet)\n",
    "library(pls) \n",
    "library(ISLR)\n",
    "library(MASS)\n",
    "library(lmvar)\n",
    "library(leaps)"
   ]
  },
  {
   "cell_type": "markdown",
   "metadata": {},
   "source": [
    "Exercise 3 (p.198, Chap.5), 8 (p.200, Chap.5), 1 (p.259, Chap.6), 9 (p.263, Chap.6), 9 (p.299, Chap.7) and\n",
    "10 (p.300, Chap.7)"
   ]
  },
  {
   "cell_type": "markdown",
   "metadata": {
    "tags": []
   },
   "source": [
    "#### Chap.5 Exercise 3"
   ]
  },
  {
   "cell_type": "markdown",
   "metadata": {},
   "source": [
    "###### \n",
    "A) K fold approach involves randomly deviding the set of observation into k groups, or fold of approximately equal size, the first fold is treated as a validation set, and the method is fit on the remaining k-1 folds , the mean square error is then computed on the observation in the held-out fold. this procedure is repeated k times each time a diferent group of observation is treated as a validation set. this process result in k estimates of the test error k-fold CV estimate is computed by averaging these values."
   ]
  },
  {
   "cell_type": "markdown",
   "metadata": {},
   "source": [
    "###### \n",
    "B) Validation set approach: K-fold is better than validation set approach when the data size is small, but K-fold is slower and is more complex\n",
    "\n",
    "LOOCV: K-fold it is faster and the variance of k-fold is smaller than LOOCV, if the data size is too small we can not use k-fold."
   ]
  },
  {
   "cell_type": "markdown",
   "metadata": {},
   "source": [
    "#### Chap.5 Exercise 8"
   ]
  },
  {
   "cell_type": "code",
   "execution_count": 52,
   "metadata": {},
   "outputs": [],
   "source": [
    "# A)\n",
    "set.seed(1)\n",
    "x <- rnorm(100)\n",
    "y <- x - 2*x^2 + rnorm(100)"
   ]
  },
  {
   "cell_type": "code",
   "execution_count": 53,
   "metadata": {},
   "outputs": [
    {
     "data": {
      "image/png": "[encoded data removed]",
      "text/plain": [
       "plot without title"
      ]
     },
     "metadata": {
      "image/png": {
       "height": 420,
       "width": 420
      }
     },
     "output_type": "display_data"
    }
   ],
   "source": [
    "# B)\n",
    "plot(x, y)"
   ]
  },
  {
   "cell_type": "code",
   "execution_count": 54,
   "metadata": {},
   "outputs": [
    {
     "data": {
      "text/html": [
       "<ol>\n",
       "\t<li>7.28816160667281</li>\n",
       "\t<li>0.937423637615551</li>\n",
       "\t<li>0.95662183010894</li>\n",
       "\t<li>0.953904892744804</li>\n",
       "</ol>\n"
      ],
      "text/latex": [
       "\\begin{enumerate}\n",
       "\\item 7.28816160667281\n",
       "\\item 0.937423637615551\n",
       "\\item 0.95662183010894\n",
       "\\item 0.953904892744804\n",
       "\\end{enumerate}\n"
      ],
      "text/markdown": [
       "1. 7.28816160667281\n",
       "2. 0.937423637615551\n",
       "3. 0.95662183010894\n",
       "4. 0.953904892744804\n",
       "\n",
       "\n"
      ],
      "text/plain": [
       "[[1]]\n",
       "[1] 7.288162\n",
       "\n",
       "[[2]]\n",
       "[1] 0.9374236\n",
       "\n",
       "[[3]]\n",
       "[1] 0.9566218\n",
       "\n",
       "[[4]]\n",
       "[1] 0.9539049\n"
      ]
     },
     "metadata": {},
     "output_type": "display_data"
    }
   ],
   "source": [
    "# c)\n",
    "data<-data.frame(x,y)\n",
    "loocv_error<-list()\n",
    "\n",
    "set.seed(613)\n",
    "for (i in 1:4) {\n",
    "    model<- glm(y ∼ poly(x, i), data=data)\n",
    "    result<- cv.glm(data, model)\n",
    "    loocv_error[i]<-result$delta[1]\n",
    "}\n",
    "\n",
    "loocv_error"
   ]
  },
  {
   "cell_type": "code",
   "execution_count": 55,
   "metadata": {},
   "outputs": [
    {
     "data": {
      "text/html": [
       "<ol>\n",
       "\t<li>7.28816160667281</li>\n",
       "\t<li>0.937423637615552</li>\n",
       "\t<li>0.956621830108939</li>\n",
       "\t<li>0.953904892744804</li>\n",
       "</ol>\n"
      ],
      "text/latex": [
       "\\begin{enumerate}\n",
       "\\item 7.28816160667281\n",
       "\\item 0.937423637615552\n",
       "\\item 0.956621830108939\n",
       "\\item 0.953904892744804\n",
       "\\end{enumerate}\n"
      ],
      "text/markdown": [
       "1. 7.28816160667281\n",
       "2. 0.937423637615552\n",
       "3. 0.956621830108939\n",
       "4. 0.953904892744804\n",
       "\n",
       "\n"
      ],
      "text/plain": [
       "[[1]]\n",
       "[1] 7.288162\n",
       "\n",
       "[[2]]\n",
       "[1] 0.9374236\n",
       "\n",
       "[[3]]\n",
       "[1] 0.9566218\n",
       "\n",
       "[[4]]\n",
       "[1] 0.9539049\n"
      ]
     },
     "metadata": {},
     "output_type": "display_data"
    }
   ],
   "source": [
    "# D)\n",
    "data<-data.frame(x,y)\n",
    "loocv_error<-list()\n",
    "\n",
    "set.seed(123)\n",
    "for (i in 1:4) {\n",
    "    model<- glm(y ∼ poly(x, i), data=data)\n",
    "    result<- cv.glm(data, model)\n",
    "    loocv_error[i]<-result$delta[1]\n",
    "}\n",
    "\n",
    "loocv_error"
   ]
  },
  {
   "cell_type": "markdown",
   "metadata": {},
   "source": [
    "##### E) Second polynomial has lower error since the data shape is also polynomial with degree of 2.\n"
   ]
  },
  {
   "cell_type": "code",
   "execution_count": 56,
   "metadata": {},
   "outputs": [
    {
     "name": "stdout",
     "output_type": "stream",
     "text": [
      "\n",
      "Call:\n",
      "glm(formula = y ~ poly(x, i), data = data)\n",
      "\n",
      "Deviance Residuals: \n",
      "    Min       1Q   Median       3Q      Max  \n",
      "-9.5161  -0.6800   0.6812   1.5491   3.8183  \n",
      "\n",
      "Coefficients:\n",
      "            Estimate Std. Error t value Pr(>|t|)    \n",
      "(Intercept)   -1.550      0.260  -5.961 3.95e-08 ***\n",
      "poly(x, i)     6.189      2.600   2.380   0.0192 *  \n",
      "---\n",
      "Signif. codes:  0 '***' 0.001 '**' 0.01 '*' 0.05 '.' 0.1 ' ' 1\n",
      "\n",
      "(Dispersion parameter for gaussian family taken to be 6.760719)\n",
      "\n",
      "    Null deviance: 700.85  on 99  degrees of freedom\n",
      "Residual deviance: 662.55  on 98  degrees of freedom\n",
      "AIC: 478.88\n",
      "\n",
      "Number of Fisher Scoring iterations: 2\n",
      "\n",
      "\n",
      "Call:\n",
      "glm(formula = y ~ poly(x, i), data = data)\n",
      "\n",
      "Deviance Residuals: \n",
      "    Min       1Q   Median       3Q      Max  \n",
      "-1.9650  -0.6254  -0.1288   0.5803   2.2700  \n",
      "\n",
      "Coefficients:\n",
      "            Estimate Std. Error t value Pr(>|t|)    \n",
      "(Intercept)  -1.5500     0.0958  -16.18  < 2e-16 ***\n",
      "poly(x, i)1   6.1888     0.9580    6.46 4.18e-09 ***\n",
      "poly(x, i)2 -23.9483     0.9580  -25.00  < 2e-16 ***\n",
      "---\n",
      "Signif. codes:  0 '***' 0.001 '**' 0.01 '*' 0.05 '.' 0.1 ' ' 1\n",
      "\n",
      "(Dispersion parameter for gaussian family taken to be 0.9178258)\n",
      "\n",
      "    Null deviance: 700.852  on 99  degrees of freedom\n",
      "Residual deviance:  89.029  on 97  degrees of freedom\n",
      "AIC: 280.17\n",
      "\n",
      "Number of Fisher Scoring iterations: 2\n",
      "\n",
      "\n",
      "Call:\n",
      "glm(formula = y ~ poly(x, i), data = data)\n",
      "\n",
      "Deviance Residuals: \n",
      "    Min       1Q   Median       3Q      Max  \n",
      "-1.9765  -0.6302  -0.1227   0.5545   2.2843  \n",
      "\n",
      "Coefficients:\n",
      "             Estimate Std. Error t value Pr(>|t|)    \n",
      "(Intercept)  -1.55002    0.09626 -16.102  < 2e-16 ***\n",
      "poly(x, i)1   6.18883    0.96263   6.429 4.97e-09 ***\n",
      "poly(x, i)2 -23.94830    0.96263 -24.878  < 2e-16 ***\n",
      "poly(x, i)3   0.26411    0.96263   0.274    0.784    \n",
      "---\n",
      "Signif. codes:  0 '***' 0.001 '**' 0.01 '*' 0.05 '.' 0.1 ' ' 1\n",
      "\n",
      "(Dispersion parameter for gaussian family taken to be 0.9266599)\n",
      "\n",
      "    Null deviance: 700.852  on 99  degrees of freedom\n",
      "Residual deviance:  88.959  on 96  degrees of freedom\n",
      "AIC: 282.09\n",
      "\n",
      "Number of Fisher Scoring iterations: 2\n",
      "\n",
      "\n",
      "Call:\n",
      "glm(formula = y ~ poly(x, i), data = data)\n",
      "\n",
      "Deviance Residuals: \n",
      "    Min       1Q   Median       3Q      Max  \n",
      "-2.0550  -0.6212  -0.1567   0.5952   2.2267  \n",
      "\n",
      "Coefficients:\n",
      "             Estimate Std. Error t value Pr(>|t|)    \n",
      "(Intercept)  -1.55002    0.09591 -16.162  < 2e-16 ***\n",
      "poly(x, i)1   6.18883    0.95905   6.453 4.59e-09 ***\n",
      "poly(x, i)2 -23.94830    0.95905 -24.971  < 2e-16 ***\n",
      "poly(x, i)3   0.26411    0.95905   0.275    0.784    \n",
      "poly(x, i)4   1.25710    0.95905   1.311    0.193    \n",
      "---\n",
      "Signif. codes:  0 '***' 0.001 '**' 0.01 '*' 0.05 '.' 0.1 ' ' 1\n",
      "\n",
      "(Dispersion parameter for gaussian family taken to be 0.9197797)\n",
      "\n",
      "    Null deviance: 700.852  on 99  degrees of freedom\n",
      "Residual deviance:  87.379  on 95  degrees of freedom\n",
      "AIC: 282.3\n",
      "\n",
      "Number of Fisher Scoring iterations: 2\n",
      "\n"
     ]
    },
    {
     "data": {
      "text/html": [
       "<ol>\n",
       "\t<li>7.28816160667281</li>\n",
       "\t<li>0.937423637615551</li>\n",
       "\t<li>0.95662183010894</li>\n",
       "\t<li>0.953904892744804</li>\n",
       "</ol>\n"
      ],
      "text/latex": [
       "\\begin{enumerate}\n",
       "\\item 7.28816160667281\n",
       "\\item 0.937423637615551\n",
       "\\item 0.95662183010894\n",
       "\\item 0.953904892744804\n",
       "\\end{enumerate}\n"
      ],
      "text/markdown": [
       "1. 7.28816160667281\n",
       "2. 0.937423637615551\n",
       "3. 0.95662183010894\n",
       "4. 0.953904892744804\n",
       "\n",
       "\n"
      ],
      "text/plain": [
       "[[1]]\n",
       "[1] 7.288162\n",
       "\n",
       "[[2]]\n",
       "[1] 0.9374236\n",
       "\n",
       "[[3]]\n",
       "[1] 0.9566218\n",
       "\n",
       "[[4]]\n",
       "[1] 0.9539049\n"
      ]
     },
     "metadata": {},
     "output_type": "display_data"
    }
   ],
   "source": [
    "# F)\n",
    "data<-data.frame(x,y)\n",
    "loocv_error<-list()\n",
    "\n",
    "set.seed(613)\n",
    "for (i in 1:4) {\n",
    "    model<- glm(y ∼ poly(x, i), data=data)\n",
    "    print(summary(model))\n",
    "    result<- cv.glm(data, model)\n",
    "    \n",
    "    loocv_error[i]<-result$delta[1]\n",
    "}\n",
    "\n",
    "loocv_error"
   ]
  },
  {
   "cell_type": "markdown",
   "metadata": {},
   "source": [
    "#### Chap.6 Exercise 1"
   ]
  },
  {
   "cell_type": "markdown",
   "metadata": {},
   "source": [
    "#####\n",
    "A) The model with K = p will have the smallest RSS"
   ]
  },
  {
   "cell_type": "markdown",
   "metadata": {},
   "source": [
    "#####\n",
    "B) Inconclusive based on the data, we may need to evaluate the model parametres."
   ]
  },
  {
   "cell_type": "markdown",
   "metadata": {
    "tags": []
   },
   "source": [
    "#####\n",
    "C)\n",
    "\n",
    "i) TRUE\n",
    "<br>\n",
    "ii) TRUE\n",
    "<br>\n",
    "iii) FALSE\n",
    "<br>\n",
    "iv) FALSE\n",
    "<br>\n",
    "v) FALSE"
   ]
  },
  {
   "cell_type": "markdown",
   "metadata": {},
   "source": [
    "#### Chap.6 Exercise 9"
   ]
  },
  {
   "cell_type": "code",
   "execution_count": 57,
   "metadata": {},
   "outputs": [],
   "source": [
    "library(ISLR)"
   ]
  },
  {
   "cell_type": "code",
   "execution_count": 58,
   "metadata": {},
   "outputs": [
    {
     "name": "stdout",
     "output_type": "stream",
     "text": [
      "'data.frame':\t777 obs. of  18 variables:\n",
      " $ Private    : Factor w/ 2 levels \"No\",\"Yes\": 2 2 2 2 2 2 2 2 2 2 ...\n",
      " $ Apps       : num  1660 2186 1428 417 193 ...\n",
      " $ Accept     : num  1232 1924 1097 349 146 ...\n",
      " $ Enroll     : num  721 512 336 137 55 158 103 489 227 172 ...\n",
      " $ Top10perc  : num  23 16 22 60 16 38 17 37 30 21 ...\n",
      " $ Top25perc  : num  52 29 50 89 44 62 45 68 63 44 ...\n",
      " $ F.Undergrad: num  2885 2683 1036 510 249 ...\n",
      " $ P.Undergrad: num  537 1227 99 63 869 ...\n",
      " $ Outstate   : num  7440 12280 11250 12960 7560 ...\n",
      " $ Room.Board : num  3300 6450 3750 5450 4120 ...\n",
      " $ Books      : num  450 750 400 450 800 500 500 450 300 660 ...\n",
      " $ Personal   : num  2200 1500 1165 875 1500 ...\n",
      " $ PhD        : num  70 29 53 92 76 67 90 89 79 40 ...\n",
      " $ Terminal   : num  78 30 66 97 72 73 93 100 84 41 ...\n",
      " $ S.F.Ratio  : num  18.1 12.2 12.9 7.7 11.9 9.4 11.5 13.7 11.3 11.5 ...\n",
      " $ perc.alumni: num  12 16 30 37 2 11 26 37 23 15 ...\n",
      " $ Expend     : num  7041 10527 8735 19016 10922 ...\n",
      " $ Grad.Rate  : num  60 56 54 59 15 55 63 73 80 52 ...\n"
     ]
    }
   ],
   "source": [
    "str(College)"
   ]
  },
  {
   "cell_type": "code",
   "execution_count": 59,
   "metadata": {},
   "outputs": [
    {
     "data": {
      "text/html": [
       "0"
      ],
      "text/latex": [
       "0"
      ],
      "text/markdown": [
       "0"
      ],
      "text/plain": [
       "[1] 0"
      ]
     },
     "metadata": {},
     "output_type": "display_data"
    }
   ],
   "source": [
    "sum(is.na(College))"
   ]
  },
  {
   "cell_type": "code",
   "execution_count": null,
   "metadata": {},
   "outputs": [],
   "source": []
  },
  {
   "cell_type": "code",
   "execution_count": 60,
   "metadata": {},
   "outputs": [
    {
     "data": {
      "text/html": [
       "\n",
       "<table width=\"100%\" summary=\"page for College {ISLR}\"><tr><td>College {ISLR}</td><td style=\"text-align: right;\">R Documentation</td></tr></table>\n",
       "\n",
       "<h2>U.S. News and World Report's College Data\n",
       "\n",
       "</h2>\n",
       "\n",
       "<h3>Description</h3>\n",
       "\n",
       "<p>Statistics for a large number of US Colleges from the 1995\n",
       "issue of US News and World Report.\n",
       "\n",
       "</p>\n",
       "\n",
       "\n",
       "<h3>Usage</h3>\n",
       "\n",
       "<pre>College</pre>\n",
       "\n",
       "\n",
       "<h3>Format</h3>\n",
       "\n",
       "<p>A data frame with 777 observations on the following 18 variables.\n",
       "</p>\n",
       "\n",
       "<dl>\n",
       "<dt><code>Private</code></dt><dd><p>A factor with levels <code>No</code> and <code>Yes</code>\n",
       "indicating private or public university</p>\n",
       "</dd>\n",
       "<dt><code>Apps</code></dt><dd><p>Number of applications received</p>\n",
       "</dd>\n",
       "<dt><code>Accept</code></dt><dd><p>Number of applications accepted</p>\n",
       "</dd>\n",
       "<dt><code>Enroll</code></dt><dd><p>Number of new students enrolled</p>\n",
       "</dd>\n",
       "<dt><code>Top10perc</code></dt><dd><p>Pct. new students from top 10% of H.S. class</p>\n",
       "</dd>\n",
       "<dt><code>Top25perc</code></dt><dd><p>Pct. new students from top 25% of H.S. class</p>\n",
       "</dd>\n",
       "<dt><code>F.Undergrad</code></dt><dd><p>Number of fulltime undergraduates</p>\n",
       "</dd>\n",
       "<dt><code>P.Undergrad</code></dt><dd><p>Number of parttime undergraduates</p>\n",
       "</dd>\n",
       "<dt><code>Outstate</code></dt><dd><p>Out-of-state tuition</p>\n",
       "</dd>\n",
       "<dt><code>Room.Board</code></dt><dd><p>Room and board costs</p>\n",
       "</dd>\n",
       "<dt><code>Books</code></dt><dd><p>Estimated book costs</p>\n",
       "</dd>\n",
       "<dt><code>Personal</code></dt><dd><p>Estimated personal spending</p>\n",
       "</dd>\n",
       "<dt><code>PhD</code></dt><dd><p>Pct. of faculty with Ph.D.'s</p>\n",
       "</dd>\n",
       "<dt><code>Terminal</code></dt><dd><p>Pct. of faculty with terminal degree</p>\n",
       "</dd>\n",
       "<dt><code>S.F.Ratio</code></dt><dd><p>Student/faculty ratio</p>\n",
       "</dd>\n",
       "<dt><code>perc.alumni</code></dt><dd><p>Pct. alumni who donate</p>\n",
       "</dd>\n",
       "<dt><code>Expend</code></dt><dd><p>Instructional expenditure per student</p>\n",
       "</dd>\n",
       "<dt><code>Grad.Rate</code></dt><dd><p>Graduation rate</p>\n",
       "</dd>\n",
       "</dl>\n",
       "\n",
       "\n",
       "\n",
       "<h3>Source</h3>\n",
       "\n",
       "<p>This dataset was taken from the StatLib library which is\n",
       "maintained at Carnegie Mellon University. The dataset was used in the\n",
       "ASA Statistical Graphics Section's 1995 Data Analysis Exposition.\n",
       "\n",
       "</p>\n",
       "\n",
       "\n",
       "<h3>References</h3>\n",
       "\n",
       "<p>James, G., Witten, D., Hastie, T., and Tibshirani, R. (2013)\n",
       "<em>An Introduction to Statistical Learning with applications in R</em>,\n",
       "<a href=\"https://www.statlearning.com\">https://www.statlearning.com</a>,\n",
       "Springer-Verlag, New York\n",
       "</p>\n",
       "\n",
       "\n",
       "<h3>Examples</h3>\n",
       "\n",
       "<pre>\n",
       "summary(College)\n",
       "lm(Apps~Private+Accept,data=College)\n",
       "</pre>\n",
       "\n",
       "<hr /><div style=\"text-align: center;\">[Package <em>ISLR</em> version 1.4 ]</div>"
      ],
      "text/latex": [
       "\\inputencoding{utf8}\n",
       "\\HeaderA{College}{U.S. News and World Report's College Data}{College}\n",
       "\\keyword{datasets}{College}\n",
       "%\n",
       "\\begin{Description}\\relax\n",
       "Statistics for a large number of US Colleges from the 1995\n",
       "issue of US News and World Report.\n",
       "\n",
       "\\end{Description}\n",
       "%\n",
       "\\begin{Usage}\n",
       "\\begin{verbatim}\n",
       "College\n",
       "\\end{verbatim}\n",
       "\\end{Usage}\n",
       "%\n",
       "\\begin{Format}\n",
       "A data frame with 777 observations on the following 18 variables.\n",
       "\\begin{description}\n",
       "\n",
       "\\item[\\code{Private}] A factor with levels \\code{No} and \\code{Yes}\n",
       "indicating private or public university\n",
       "\\item[\\code{Apps}] Number of applications received\n",
       "\\item[\\code{Accept}] Number of applications accepted\n",
       "\\item[\\code{Enroll}] Number of new students enrolled\n",
       "\\item[\\code{Top10perc}] Pct. new students from top 10\\% of H.S. class\n",
       "\\item[\\code{Top25perc}] Pct. new students from top 25\\% of H.S. class\n",
       "\\item[\\code{F.Undergrad}] Number of fulltime undergraduates\n",
       "\\item[\\code{P.Undergrad}] Number of parttime undergraduates\n",
       "\\item[\\code{Outstate}] Out-of-state tuition\n",
       "\\item[\\code{Room.Board}] Room and board costs\n",
       "\\item[\\code{Books}] Estimated book costs\n",
       "\\item[\\code{Personal}] Estimated personal spending\n",
       "\\item[\\code{PhD}] Pct. of faculty with Ph.D.'s\n",
       "\\item[\\code{Terminal}] Pct. of faculty with terminal degree\n",
       "\\item[\\code{S.F.Ratio}] Student/faculty ratio\n",
       "\\item[\\code{perc.alumni}] Pct. alumni who donate\n",
       "\\item[\\code{Expend}] Instructional expenditure per student\n",
       "\\item[\\code{Grad.Rate}] Graduation rate\n",
       "\n",
       "\\end{description}\n",
       "\n",
       "\\end{Format}\n",
       "%\n",
       "\\begin{Source}\\relax\n",
       "This dataset was taken from the StatLib library which is\n",
       "maintained at Carnegie Mellon University. The dataset was used in the\n",
       "ASA Statistical Graphics Section's 1995 Data Analysis Exposition.\n",
       "\n",
       "\\end{Source}\n",
       "%\n",
       "\\begin{References}\\relax\n",
       "James, G., Witten, D., Hastie, T., and Tibshirani, R. (2013)\n",
       "\\emph{An Introduction to Statistical Learning with applications in R},\n",
       "\\url{https://www.statlearning.com},\n",
       "Springer-Verlag, New York\n",
       "\\end{References}\n",
       "%\n",
       "\\begin{Examples}\n",
       "\\begin{ExampleCode}\n",
       "summary(College)\n",
       "lm(Apps~Private+Accept,data=College)\n",
       "\\end{ExampleCode}\n",
       "\\end{Examples}"
      ],
      "text/plain": [
       "College                  package:ISLR                  R Documentation\n",
       "\n",
       "_\bU._\bS. _\bN_\be_\bw_\bs _\ba_\bn_\bd _\bW_\bo_\br_\bl_\bd _\bR_\be_\bp_\bo_\br_\bt'_\bs _\bC_\bo_\bl_\bl_\be_\bg_\be _\bD_\ba_\bt_\ba\n",
       "\n",
       "_\bD_\be_\bs_\bc_\br_\bi_\bp_\bt_\bi_\bo_\bn:\n",
       "\n",
       "     Statistics for a large number of US Colleges from the 1995 issue\n",
       "     of US News and World Report.\n",
       "\n",
       "_\bU_\bs_\ba_\bg_\be:\n",
       "\n",
       "     College\n",
       "     \n",
       "_\bF_\bo_\br_\bm_\ba_\bt:\n",
       "\n",
       "     A data frame with 777 observations on the following 18 variables.\n",
       "\n",
       "     'Private' A factor with levels 'No' and 'Yes' indicating private\n",
       "          or public university\n",
       "\n",
       "     'Apps' Number of applications received\n",
       "\n",
       "     'Accept' Number of applications accepted\n",
       "\n",
       "     'Enroll' Number of new students enrolled\n",
       "\n",
       "     'Top10perc' Pct. new students from top 10% of H.S. class\n",
       "\n",
       "     'Top25perc' Pct. new students from top 25% of H.S. class\n",
       "\n",
       "     'F.Undergrad' Number of fulltime undergraduates\n",
       "\n",
       "     'P.Undergrad' Number of parttime undergraduates\n",
       "\n",
       "     'Outstate' Out-of-state tuition\n",
       "\n",
       "     'Room.Board' Room and board costs\n",
       "\n",
       "     'Books' Estimated book costs\n",
       "\n",
       "     'Personal' Estimated personal spending\n",
       "\n",
       "     'PhD' Pct. of faculty with Ph.D.'s\n",
       "\n",
       "     'Terminal' Pct. of faculty with terminal degree\n",
       "\n",
       "     'S.F.Ratio' Student/faculty ratio\n",
       "\n",
       "     'perc.alumni' Pct. alumni who donate\n",
       "\n",
       "     'Expend' Instructional expenditure per student\n",
       "\n",
       "     'Grad.Rate' Graduation rate\n",
       "\n",
       "_\bS_\bo_\bu_\br_\bc_\be:\n",
       "\n",
       "     This dataset was taken from the StatLib library which is\n",
       "     maintained at Carnegie Mellon University. The dataset was used in\n",
       "     the ASA Statistical Graphics Section's 1995 Data Analysis\n",
       "     Exposition.\n",
       "\n",
       "_\bR_\be_\bf_\be_\br_\be_\bn_\bc_\be_\bs:\n",
       "\n",
       "     James, G., Witten, D., Hastie, T., and Tibshirani, R. (2013) _An\n",
       "     Introduction to Statistical Learning with applications in R_,\n",
       "     <URL: https://www.statlearning.com>, Springer-Verlag, New York\n",
       "\n",
       "_\bE_\bx_\ba_\bm_\bp_\bl_\be_\bs:\n",
       "\n",
       "     summary(College)\n",
       "     lm(Apps~Private+Accept,data=College)\n",
       "     "
      ]
     },
     "metadata": {},
     "output_type": "display_data"
    }
   ],
   "source": [
    "?College"
   ]
  },
  {
   "cell_type": "code",
   "execution_count": 61,
   "metadata": {},
   "outputs": [
    {
     "name": "stdout",
     "output_type": "stream",
     "text": [
      "'data.frame':\t777 obs. of  18 variables:\n",
      " $ Private    : num  1 1 1 1 1 1 1 1 1 1 ...\n",
      " $ Apps       : num  1660 2186 1428 417 193 ...\n",
      " $ Accept     : num  1232 1924 1097 349 146 ...\n",
      " $ Enroll     : num  721 512 336 137 55 158 103 489 227 172 ...\n",
      " $ Top10perc  : num  23 16 22 60 16 38 17 37 30 21 ...\n",
      " $ Top25perc  : num  52 29 50 89 44 62 45 68 63 44 ...\n",
      " $ F.Undergrad: num  2885 2683 1036 510 249 ...\n",
      " $ P.Undergrad: num  537 1227 99 63 869 ...\n",
      " $ Outstate   : num  7440 12280 11250 12960 7560 ...\n",
      " $ Room.Board : num  3300 6450 3750 5450 4120 ...\n",
      " $ Books      : num  450 750 400 450 800 500 500 450 300 660 ...\n",
      " $ Personal   : num  2200 1500 1165 875 1500 ...\n",
      " $ PhD        : num  70 29 53 92 76 67 90 89 79 40 ...\n",
      " $ Terminal   : num  78 30 66 97 72 73 93 100 84 41 ...\n",
      " $ S.F.Ratio  : num  18.1 12.2 12.9 7.7 11.9 9.4 11.5 13.7 11.3 11.5 ...\n",
      " $ perc.alumni: num  12 16 30 37 2 11 26 37 23 15 ...\n",
      " $ Expend     : num  7041 10527 8735 19016 10922 ...\n",
      " $ Grad.Rate  : num  60 56 54 59 15 55 63 73 80 52 ...\n"
     ]
    }
   ],
   "source": [
    "collage<-College\n",
    "collage$Private <- as.numeric(collage$Private=='Yes')\n",
    "str(collage)"
   ]
  },
  {
   "cell_type": "code",
   "execution_count": 62,
   "metadata": {},
   "outputs": [],
   "source": [
    "set.seed(123)\n",
    "#set row indexes\n",
    "index <- sample(1:nrow(collage), round(0.5 * nrow(collage), 0))\n",
    "#split data\n",
    "train <- collage[index, ]\n",
    "test <- collage[-index, ]"
   ]
  },
  {
   "cell_type": "code",
   "execution_count": 63,
   "metadata": {},
   "outputs": [],
   "source": [
    "# B)\n",
    "\n",
    "linear <- lm(Apps ~ ., data=train)\n",
    "predict_lr <- predict(linear, newdata=test)"
   ]
  },
  {
   "cell_type": "code",
   "execution_count": 64,
   "metadata": {},
   "outputs": [
    {
     "data": {
      "text/html": [
       "1373994.68331753"
      ],
      "text/latex": [
       "1373994.68331753"
      ],
      "text/markdown": [
       "1373994.68331753"
      ],
      "text/plain": [
       "[1] 1373995"
      ]
     },
     "metadata": {},
     "output_type": "display_data"
    }
   ],
   "source": [
    "MSE <- mean((predict_lr - test$Apps)^2)\n",
    "MSE"
   ]
  },
  {
   "cell_type": "code",
   "execution_count": 65,
   "metadata": {},
   "outputs": [
    {
     "data": {
      "text/html": [
       "<style>\n",
       ".list-inline {list-style: none; margin:0; padding: 0}\n",
       ".list-inline>li {display: inline-block}\n",
       ".list-inline>li:not(:last-child)::after {content: \"\\00b7\"; padding: 0 .5ex}\n",
       "</style>\n",
       "<ol class=list-inline><li>'Private'</li><li>'Accept'</li><li>'Enroll'</li><li>'Top10perc'</li><li>'Top25perc'</li><li>'F.Undergrad'</li><li>'P.Undergrad'</li><li>'Outstate'</li><li>'Room.Board'</li><li>'Books'</li><li>'Personal'</li><li>'PhD'</li><li>'Terminal'</li><li>'S.F.Ratio'</li><li>'perc.alumni'</li><li>'Expend'</li><li>'Grad.Rate'</li></ol>\n"
      ],
      "text/latex": [
       "\\begin{enumerate*}\n",
       "\\item 'Private'\n",
       "\\item 'Accept'\n",
       "\\item 'Enroll'\n",
       "\\item 'Top10perc'\n",
       "\\item 'Top25perc'\n",
       "\\item 'F.Undergrad'\n",
       "\\item 'P.Undergrad'\n",
       "\\item 'Outstate'\n",
       "\\item 'Room.Board'\n",
       "\\item 'Books'\n",
       "\\item 'Personal'\n",
       "\\item 'PhD'\n",
       "\\item 'Terminal'\n",
       "\\item 'S.F.Ratio'\n",
       "\\item 'perc.alumni'\n",
       "\\item 'Expend'\n",
       "\\item 'Grad.Rate'\n",
       "\\end{enumerate*}\n"
      ],
      "text/markdown": [
       "1. 'Private'\n",
       "2. 'Accept'\n",
       "3. 'Enroll'\n",
       "4. 'Top10perc'\n",
       "5. 'Top25perc'\n",
       "6. 'F.Undergrad'\n",
       "7. 'P.Undergrad'\n",
       "8. 'Outstate'\n",
       "9. 'Room.Board'\n",
       "10. 'Books'\n",
       "11. 'Personal'\n",
       "12. 'PhD'\n",
       "13. 'Terminal'\n",
       "14. 'S.F.Ratio'\n",
       "15. 'perc.alumni'\n",
       "16. 'Expend'\n",
       "17. 'Grad.Rate'\n",
       "\n",
       "\n"
      ],
      "text/plain": [
       " [1] \"Private\"     \"Accept\"      \"Enroll\"      \"Top10perc\"   \"Top25perc\"  \n",
       " [6] \"F.Undergrad\" \"P.Undergrad\" \"Outstate\"    \"Room.Board\"  \"Books\"      \n",
       "[11] \"Personal\"    \"PhD\"         \"Terminal\"    \"S.F.Ratio\"   \"perc.alumni\"\n",
       "[16] \"Expend\"      \"Grad.Rate\"  "
      ]
     },
     "metadata": {},
     "output_type": "display_data"
    }
   ],
   "source": [
    "selected_columns=colnames(train%>%select(-Apps))\n",
    "selected_columns"
   ]
  },
  {
   "cell_type": "code",
   "execution_count": 66,
   "metadata": {},
   "outputs": [
    {
     "data": {
      "text/html": [
       "18.7381742286038"
      ],
      "text/latex": [
       "18.7381742286038"
      ],
      "text/markdown": [
       "18.7381742286038"
      ],
      "text/plain": [
       "[1] 18.73817"
      ]
     },
     "metadata": {},
     "output_type": "display_data"
    }
   ],
   "source": [
    "# C)\n",
    "\n",
    "train.mat = model.matrix(Apps~., data=train)\n",
    "test.mat = model.matrix(Apps~., data=test)\n",
    "grid = 10 ^ seq(4, -2, length=100)\n",
    "mod.ridge = cv.glmnet(train.mat, train[, \"Apps\"], alpha=0, lambda=grid, thresh=1e-12)\n",
    "lambda.best = mod.ridge$lambda.min\n",
    "lambda.best"
   ]
  },
  {
   "cell_type": "code",
   "execution_count": 67,
   "metadata": {},
   "outputs": [],
   "source": [
    "ridge.pred = predict(mod.ridge, newx=test.mat, s=lambda.best)"
   ]
  },
  {
   "cell_type": "code",
   "execution_count": 68,
   "metadata": {},
   "outputs": [
    {
     "data": {
      "text/html": [
       "1431536.93494218"
      ],
      "text/latex": [
       "1431536.93494218"
      ],
      "text/markdown": [
       "1431536.93494218"
      ],
      "text/plain": [
       "[1] 1431537"
      ]
     },
     "metadata": {},
     "output_type": "display_data"
    }
   ],
   "source": [
    "#Best Lambda\n",
    "mean((test[, \"Apps\"] - ridge.pred)^2)"
   ]
  },
  {
   "cell_type": "code",
   "execution_count": 69,
   "metadata": {},
   "outputs": [
    {
     "data": {
      "text/html": [
       "21.5443469003188"
      ],
      "text/latex": [
       "21.5443469003188"
      ],
      "text/markdown": [
       "21.5443469003188"
      ],
      "text/plain": [
       "[1] 21.54435"
      ]
     },
     "metadata": {},
     "output_type": "display_data"
    }
   ],
   "source": [
    "# D)\n",
    "mod.lasso = cv.glmnet(train.mat, train[, \"Apps\"], alpha=1, lambda=grid, thresh=1e-12)\n",
    "lambda.best = mod.lasso$lambda.min\n",
    "lambda.best"
   ]
  },
  {
   "cell_type": "code",
   "execution_count": 70,
   "metadata": {},
   "outputs": [
    {
     "data": {
      "text/html": [
       "1397302.53373574"
      ],
      "text/latex": [
       "1397302.53373574"
      ],
      "text/markdown": [
       "1397302.53373574"
      ],
      "text/plain": [
       "[1] 1397303"
      ]
     },
     "metadata": {},
     "output_type": "display_data"
    }
   ],
   "source": [
    "lasso.pred = predict(mod.lasso, newx=test.mat, s=lambda.best)\n",
    "mean((test[, \"Apps\"] - lasso.pred)^2)"
   ]
  },
  {
   "cell_type": "code",
   "execution_count": 71,
   "metadata": {},
   "outputs": [
    {
     "data": {
      "text/plain": [
       "19 x 1 sparse Matrix of class \"dgCMatrix\"\n",
       "                       s1\n",
       "(Intercept) -6.038452e+02\n",
       "(Intercept)  .           \n",
       "PrivateYes  -4.235413e+02\n",
       "Accept       1.455236e+00\n",
       "Enroll      -2.003696e-01\n",
       "Top10perc    3.367640e+01\n",
       "Top25perc   -2.403036e+00\n",
       "F.Undergrad  .           \n",
       "P.Undergrad  2.086035e-02\n",
       "Outstate    -5.781855e-02\n",
       "Room.Board   1.246462e-01\n",
       "Books        .           \n",
       "Personal     1.832910e-05\n",
       "PhD         -5.601313e+00\n",
       "Terminal    -3.313824e+00\n",
       "S.F.Ratio    4.478684e+00\n",
       "perc.alumni -9.796600e-01\n",
       "Expend       6.967693e-02\n",
       "Grad.Rate    5.159652e+00"
      ]
     },
     "metadata": {},
     "output_type": "display_data"
    }
   ],
   "source": [
    "#coeficients\n",
    "mod.lasso = glmnet(model.matrix(Apps~., data=College), College[, \"Apps\"], alpha=1)\n",
    "predict(mod.lasso, s=lambda.best, type=\"coefficients\")"
   ]
  },
  {
   "cell_type": "code",
   "execution_count": 73,
   "metadata": {},
   "outputs": [
    {
     "data": {
      "image/png": "[encoded data removed]",
      "text/plain": [
       "Plot with title \"Apps\""
      ]
     },
     "metadata": {
      "image/png": {
       "height": 420,
       "width": 420
      }
     },
     "output_type": "display_data"
    }
   ],
   "source": [
    "# E)\n",
    "pcr.fit = pcr(Apps~., data=train, scale=T, validation=\"CV\")\n",
    "validationplot(pcr.fit, val.type=\"MSEP\")"
   ]
  },
  {
   "cell_type": "code",
   "execution_count": 78,
   "metadata": {},
   "outputs": [
    {
     "data": {
      "text/html": [
       "2887471.75809012"
      ],
      "text/latex": [
       "2887471.75809012"
      ],
      "text/markdown": [
       "2887471.75809012"
      ],
      "text/plain": [
       "[1] 2887472"
      ]
     },
     "metadata": {},
     "output_type": "display_data"
    }
   ],
   "source": [
    "pcr.pred = predict(pcr.fit, test, ncomp=10)\n",
    "MSE <- mean((pcr.pred - test$Apps)^2)\n",
    "MSE"
   ]
  },
  {
   "cell_type": "code",
   "execution_count": 80,
   "metadata": {},
   "outputs": [
    {
     "data": {
      "image/png": "[encoded data removed]",
      "text/plain": [
       "Plot with title \"Apps\""
      ]
     },
     "metadata": {
      "image/png": {
       "height": 420,
       "width": 420
      }
     },
     "output_type": "display_data"
    }
   ],
   "source": [
    "# F)\n",
    "pls.fit = plsr(Apps~., data=train, scale=T, validation=\"CV\")\n",
    "validationplot(pls.fit, val.type=\"MSEP\")"
   ]
  },
  {
   "cell_type": "code",
   "execution_count": 83,
   "metadata": {},
   "outputs": [
    {
     "data": {
      "text/html": [
       "1384150.91837861"
      ],
      "text/latex": [
       "1384150.91837861"
      ],
      "text/markdown": [
       "1384150.91837861"
      ],
      "text/plain": [
       "[1] 1384151"
      ]
     },
     "metadata": {},
     "output_type": "display_data"
    }
   ],
   "source": [
    "pls.pred = predict(pls.fit, test, ncomp=10)\n",
    "mean((pls.pred - test$Apps)^2)"
   ]
  },
  {
   "cell_type": "markdown",
   "metadata": {},
   "source": [
    "#####\n",
    "G) OLS, Lasso, Ridge are comparable"
   ]
  },
  {
   "cell_type": "markdown",
   "metadata": {},
   "source": [
    "#### Chap.7 Exercise 9"
   ]
  },
  {
   "cell_type": "code",
   "execution_count": 87,
   "metadata": {},
   "outputs": [
    {
     "name": "stdout",
     "output_type": "stream",
     "text": [
      "'data.frame':\t506 obs. of  14 variables:\n",
      " $ crim   : num  0.00632 0.02731 0.02729 0.03237 0.06905 ...\n",
      " $ zn     : num  18 0 0 0 0 0 12.5 12.5 12.5 12.5 ...\n",
      " $ indus  : num  2.31 7.07 7.07 2.18 2.18 2.18 7.87 7.87 7.87 7.87 ...\n",
      " $ chas   : int  0 0 0 0 0 0 0 0 0 0 ...\n",
      " $ nox    : num  0.538 0.469 0.469 0.458 0.458 0.458 0.524 0.524 0.524 0.524 ...\n",
      " $ rm     : num  6.58 6.42 7.18 7 7.15 ...\n",
      " $ age    : num  65.2 78.9 61.1 45.8 54.2 58.7 66.6 96.1 100 85.9 ...\n",
      " $ dis    : num  4.09 4.97 4.97 6.06 6.06 ...\n",
      " $ rad    : int  1 2 2 3 3 3 5 5 5 5 ...\n",
      " $ tax    : num  296 242 242 222 222 222 311 311 311 311 ...\n",
      " $ ptratio: num  15.3 17.8 17.8 18.7 18.7 18.7 15.2 15.2 15.2 15.2 ...\n",
      " $ black  : num  397 397 393 395 397 ...\n",
      " $ lstat  : num  4.98 9.14 4.03 2.94 5.33 ...\n",
      " $ medv   : num  24 21.6 34.7 33.4 36.2 28.7 22.9 27.1 16.5 18.9 ...\n"
     ]
    }
   ],
   "source": [
    "str(Boston)"
   ]
  },
  {
   "cell_type": "code",
   "execution_count": 88,
   "metadata": {},
   "outputs": [
    {
     "data": {
      "text/html": [
       "\n",
       "<table width=\"100%\" summary=\"page for Boston {MASS}\"><tr><td>Boston {MASS}</td><td style=\"text-align: right;\">R Documentation</td></tr></table>\n",
       "\n",
       "<h2>\n",
       "Housing Values in Suburbs of Boston\n",
       "</h2>\n",
       "\n",
       "<h3>Description</h3>\n",
       "\n",
       "<p>The <code>Boston</code> data frame has 506 rows and 14 columns.\n",
       "</p>\n",
       "\n",
       "\n",
       "<h3>Usage</h3>\n",
       "\n",
       "<pre>\n",
       "Boston\n",
       "</pre>\n",
       "\n",
       "\n",
       "<h3>Format</h3>\n",
       "\n",
       "<p>This data frame contains the following columns:\n",
       "</p>\n",
       "\n",
       "<dl>\n",
       "<dt><code>crim</code></dt><dd>\n",
       "<p>per capita crime rate by town.\n",
       "</p>\n",
       "</dd>\n",
       "<dt><code>zn</code></dt><dd>\n",
       "<p>proportion of residential land zoned for lots over 25,000 sq.ft.\n",
       "</p>\n",
       "</dd>\n",
       "<dt><code>indus</code></dt><dd>\n",
       "<p>proportion of non-retail business acres per town.\n",
       "</p>\n",
       "</dd>\n",
       "<dt><code>chas</code></dt><dd>\n",
       "<p>Charles River dummy variable (= 1 if tract bounds river; 0 otherwise).\n",
       "</p>\n",
       "</dd>\n",
       "<dt><code>nox</code></dt><dd>\n",
       "<p>nitrogen oxides concentration (parts per 10 million).\n",
       "</p>\n",
       "</dd>\n",
       "<dt><code>rm</code></dt><dd>\n",
       "<p>average number of rooms per dwelling.\n",
       "</p>\n",
       "</dd>\n",
       "<dt><code>age</code></dt><dd>\n",
       "<p>proportion of owner-occupied units built prior to 1940.\n",
       "</p>\n",
       "</dd>\n",
       "<dt><code>dis</code></dt><dd>\n",
       "<p>weighted mean of distances to five Boston employment centres.\n",
       "</p>\n",
       "</dd>\n",
       "<dt><code>rad</code></dt><dd>\n",
       "<p>index of accessibility to radial highways.\n",
       "</p>\n",
       "</dd>\n",
       "<dt><code>tax</code></dt><dd>\n",
       "<p>full-value property-tax rate per \\$10,000.\n",
       "</p>\n",
       "</dd>\n",
       "<dt><code>ptratio</code></dt><dd>\n",
       "<p>pupil-teacher ratio by town.\n",
       "</p>\n",
       "</dd>\n",
       "<dt><code>black</code></dt><dd>\n",
       "<p><i>1000(Bk - 0.63)^2</i> where <i>Bk</i> is the proportion of blacks\n",
       "by town.\n",
       "</p>\n",
       "</dd>\n",
       "<dt><code>lstat</code></dt><dd>\n",
       "<p>lower status of the population (percent).\n",
       "</p>\n",
       "</dd>\n",
       "<dt><code>medv</code></dt><dd>\n",
       "<p>median value of owner-occupied homes in \\$1000s.\n",
       "</p>\n",
       "</dd>\n",
       "</dl>\n",
       "\n",
       "\n",
       "\n",
       "<h3>Source</h3>\n",
       "\n",
       "<p>Harrison, D. and Rubinfeld, D.L. (1978)\n",
       "Hedonic prices and the demand for clean air.\n",
       "<em>J. Environ. Economics and Management</em>\n",
       "<b>5</b>, 81&ndash;102.\n",
       "</p>\n",
       "<p>Belsley D.A., Kuh, E.  and Welsch, R.E. (1980)\n",
       "<em>Regression Diagnostics. Identifying Influential Data and Sources\n",
       "of Collinearity.</em>\n",
       "New York: Wiley.\n",
       "</p>\n",
       "\n",
       "<hr /><div style=\"text-align: center;\">[Package <em>MASS</em> version 7.3-55 ]</div>"
      ],
      "text/latex": [
       "\\inputencoding{utf8}\n",
       "\\HeaderA{Boston}{Housing Values in Suburbs of Boston}{Boston}\n",
       "\\keyword{datasets}{Boston}\n",
       "%\n",
       "\\begin{Description}\\relax\n",
       "The \\code{Boston} data frame has 506 rows and 14 columns.\n",
       "\\end{Description}\n",
       "%\n",
       "\\begin{Usage}\n",
       "\\begin{verbatim}\n",
       "Boston\n",
       "\\end{verbatim}\n",
       "\\end{Usage}\n",
       "%\n",
       "\\begin{Format}\n",
       "This data frame contains the following columns:\n",
       "\\begin{description}\n",
       "\n",
       "\\item[\\code{crim}] \n",
       "per capita crime rate by town.\n",
       "\n",
       "\\item[\\code{zn}] \n",
       "proportion of residential land zoned for lots over 25,000 sq.ft.\n",
       "\n",
       "\\item[\\code{indus}] \n",
       "proportion of non-retail business acres per town.\n",
       "\n",
       "\\item[\\code{chas}] \n",
       "Charles River dummy variable (= 1 if tract bounds river; 0 otherwise).\n",
       "\n",
       "\\item[\\code{nox}] \n",
       "nitrogen oxides concentration (parts per 10 million).\n",
       "\n",
       "\\item[\\code{rm}] \n",
       "average number of rooms per dwelling.\n",
       "\n",
       "\\item[\\code{age}] \n",
       "proportion of owner-occupied units built prior to 1940.\n",
       "\n",
       "\\item[\\code{dis}] \n",
       "weighted mean of distances to five Boston employment centres.\n",
       "\n",
       "\\item[\\code{rad}] \n",
       "index of accessibility to radial highways.\n",
       "\n",
       "\\item[\\code{tax}] \n",
       "full-value property-tax rate per \\bsl{}\\$10,000.\n",
       "\n",
       "\\item[\\code{ptratio}] \n",
       "pupil-teacher ratio by town.\n",
       "\n",
       "\\item[\\code{black}] \n",
       "\\eqn{1000(Bk - 0.63)^2}{} where \\eqn{Bk}{} is the proportion of blacks\n",
       "by town.\n",
       "\n",
       "\\item[\\code{lstat}] \n",
       "lower status of the population (percent).\n",
       "\n",
       "\\item[\\code{medv}] \n",
       "median value of owner-occupied homes in \\bsl{}\\$1000s.\n",
       "\n",
       "\n",
       "\\end{description}\n",
       "\n",
       "\\end{Format}\n",
       "%\n",
       "\\begin{Source}\\relax\n",
       "Harrison, D. and Rubinfeld, D.L. (1978)\n",
       "Hedonic prices and the demand for clean air.\n",
       "\\emph{J. Environ. Economics and Management}\n",
       "\\bold{5}, 81--102.\n",
       "\n",
       "Belsley D.A., Kuh, E.  and Welsch, R.E. (1980)\n",
       "\\emph{Regression Diagnostics. Identifying Influential Data and Sources\n",
       "of Collinearity.}\n",
       "New York: Wiley.\n",
       "\\end{Source}"
      ],
      "text/plain": [
       "Boston                  package:MASS                   R Documentation\n",
       "\n",
       "_\bH_\bo_\bu_\bs_\bi_\bn_\bg _\bV_\ba_\bl_\bu_\be_\bs _\bi_\bn _\bS_\bu_\bb_\bu_\br_\bb_\bs _\bo_\bf _\bB_\bo_\bs_\bt_\bo_\bn\n",
       "\n",
       "_\bD_\be_\bs_\bc_\br_\bi_\bp_\bt_\bi_\bo_\bn:\n",
       "\n",
       "     The 'Boston' data frame has 506 rows and 14 columns.\n",
       "\n",
       "_\bU_\bs_\ba_\bg_\be:\n",
       "\n",
       "     Boston\n",
       "     \n",
       "_\bF_\bo_\br_\bm_\ba_\bt:\n",
       "\n",
       "     This data frame contains the following columns:\n",
       "\n",
       "     'crim' per capita crime rate by town.\n",
       "\n",
       "     'zn' proportion of residential land zoned for lots over 25,000\n",
       "          sq.ft.\n",
       "\n",
       "     'indus' proportion of non-retail business acres per town.\n",
       "\n",
       "     'chas' Charles River dummy variable (= 1 if tract bounds river; 0\n",
       "          otherwise).\n",
       "\n",
       "     'nox' nitrogen oxides concentration (parts per 10 million).\n",
       "\n",
       "     'rm' average number of rooms per dwelling.\n",
       "\n",
       "     'age' proportion of owner-occupied units built prior to 1940.\n",
       "\n",
       "     'dis' weighted mean of distances to five Boston employment\n",
       "          centres.\n",
       "\n",
       "     'rad' index of accessibility to radial highways.\n",
       "\n",
       "     'tax' full-value property-tax rate per \\$10,000.\n",
       "\n",
       "     'ptratio' pupil-teacher ratio by town.\n",
       "\n",
       "     'black' 1000(Bk - 0.63)^2 where Bk is the proportion of blacks by\n",
       "          town.\n",
       "\n",
       "     'lstat' lower status of the population (percent).\n",
       "\n",
       "     'medv' median value of owner-occupied homes in \\$1000s.\n",
       "\n",
       "_\bS_\bo_\bu_\br_\bc_\be:\n",
       "\n",
       "     Harrison, D. and Rubinfeld, D.L. (1978) Hedonic prices and the\n",
       "     demand for clean air.  _J. Environ. Economics and Management_ *5*,\n",
       "     81-102.\n",
       "\n",
       "     Belsley D.A., Kuh, E.  and Welsch, R.E. (1980) _Regression\n",
       "     Diagnostics. Identifying Influential Data and Sources of\n",
       "     Collinearity._ New York: Wiley.\n"
      ]
     },
     "metadata": {},
     "output_type": "display_data"
    }
   ],
   "source": [
    "?Boston"
   ]
  },
  {
   "cell_type": "code",
   "execution_count": 89,
   "metadata": {},
   "outputs": [
    {
     "data": {
      "text/plain": [
       "\n",
       "Call:\n",
       "lm(formula = nox ~ poly(dis, d = 3), data = Boston)\n",
       "\n",
       "Residuals:\n",
       "      Min        1Q    Median        3Q       Max \n",
       "-0.121130 -0.040619 -0.009738  0.023385  0.194904 \n",
       "\n",
       "Coefficients:\n",
       "                   Estimate Std. Error t value Pr(>|t|)    \n",
       "(Intercept)        0.554695   0.002759 201.021  < 2e-16 ***\n",
       "poly(dis, d = 3)1 -2.003096   0.062071 -32.271  < 2e-16 ***\n",
       "poly(dis, d = 3)2  0.856330   0.062071  13.796  < 2e-16 ***\n",
       "poly(dis, d = 3)3 -0.318049   0.062071  -5.124 4.27e-07 ***\n",
       "---\n",
       "Signif. codes:  0 '***' 0.001 '**' 0.01 '*' 0.05 '.' 0.1 ' ' 1\n",
       "\n",
       "Residual standard error: 0.06207 on 502 degrees of freedom\n",
       "Multiple R-squared:  0.7148,\tAdjusted R-squared:  0.7131 \n",
       "F-statistic: 419.3 on 3 and 502 DF,  p-value: < 2.2e-16\n"
      ]
     },
     "metadata": {},
     "output_type": "display_data"
    }
   ],
   "source": [
    "# A)\n",
    "lr_model_cube <- lm(nox ~ poly(dis, d=3), data=Boston)\n",
    "summary(lr_model_cube)"
   ]
  },
  {
   "cell_type": "code",
   "execution_count": 91,
   "metadata": {},
   "outputs": [
    {
     "data": {
      "image/png": "[encoded data removed]",
      "text/plain": [
       "plot without title"
      ]
     },
     "metadata": {
      "image/png": {
       "height": 420,
       "width": 420
      }
     },
     "output_type": "display_data"
    }
   ],
   "source": [
    "plot(Boston$nox ~ Boston$dis, xlab='dis', ylab='nox')\n",
    "lines(sort(Boston$dis), fitted(lr_model_cube)[order(Boston$dis)], col='green', type='l',lw=5)"
   ]
  },
  {
   "cell_type": "code",
   "execution_count": 92,
   "metadata": {},
   "outputs": [
    {
     "data": {
      "image/png": "[encoded data removed]",
      "text/plain": [
       "Plot with title \"\""
      ]
     },
     "metadata": {
      "image/png": {
       "height": 420,
       "width": 420
      }
     },
     "output_type": "display_data"
    },
    {
     "data": {
      "image/png": "[encoded data removed]",
      "text/plain": [
       "Plot with title \"\""
      ]
     },
     "metadata": {
      "image/png": {
       "height": 420,
       "width": 420
      }
     },
     "output_type": "display_data"
    },
    {
     "data": {
      "image/png": "[encoded data removed]",
      "text/plain": [
       "Plot with title \"\""
      ]
     },
     "metadata": {
      "image/png": {
       "height": 420,
       "width": 420
      }
     },
     "output_type": "display_data"
    },
    {
     "data": {
      "image/png": "[encoded data removed]",
      "text/plain": [
       "Plot with title \"\""
      ]
     },
     "metadata": {
      "image/png": {
       "height": 420,
       "width": 420
      }
     },
     "output_type": "display_data"
    }
   ],
   "source": [
    "plot(lr_model_cube)"
   ]
  },
  {
   "cell_type": "code",
   "execution_count": 93,
   "metadata": {},
   "outputs": [],
   "source": [
    "# B)\n",
    "\n",
    "rss_results <- NULL\n",
    "for (d in 1:10) {\n",
    "    LR_for <- lm(nox ~ poly(dis, d=d), data=Boston)\n",
    "    rss <- sum((predict(LR_for, newdata=Boston) - Boston$nox)^2)\n",
    "    rss_results$degrees[d] <-  d\n",
    "    rss_results$RSSs[d] <-  rss\n",
    "}"
   ]
  },
  {
   "cell_type": "code",
   "execution_count": 94,
   "metadata": {},
   "outputs": [
    {
     "data": {
      "text/html": [
       "<table class=\"dataframe\">\n",
       "<caption>A data.frame: 10 × 2</caption>\n",
       "<thead>\n",
       "\t<tr><th scope=col>degrees</th><th scope=col>RSSs</th></tr>\n",
       "\t<tr><th scope=col>&lt;int&gt;</th><th scope=col>&lt;dbl&gt;</th></tr>\n",
       "</thead>\n",
       "<tbody>\n",
       "\t<tr><td> 1</td><td>2.768563</td></tr>\n",
       "\t<tr><td> 2</td><td>2.035262</td></tr>\n",
       "\t<tr><td> 3</td><td>1.934107</td></tr>\n",
       "\t<tr><td> 4</td><td>1.932981</td></tr>\n",
       "\t<tr><td> 5</td><td>1.915290</td></tr>\n",
       "\t<tr><td> 6</td><td>1.878257</td></tr>\n",
       "\t<tr><td> 7</td><td>1.849484</td></tr>\n",
       "\t<tr><td> 8</td><td>1.835630</td></tr>\n",
       "\t<tr><td> 9</td><td>1.833331</td></tr>\n",
       "\t<tr><td>10</td><td>1.832171</td></tr>\n",
       "</tbody>\n",
       "</table>\n"
      ],
      "text/latex": [
       "A data.frame: 10 × 2\n",
       "\\begin{tabular}{ll}\n",
       " degrees & RSSs\\\\\n",
       " <int> & <dbl>\\\\\n",
       "\\hline\n",
       "\t  1 & 2.768563\\\\\n",
       "\t  2 & 2.035262\\\\\n",
       "\t  3 & 1.934107\\\\\n",
       "\t  4 & 1.932981\\\\\n",
       "\t  5 & 1.915290\\\\\n",
       "\t  6 & 1.878257\\\\\n",
       "\t  7 & 1.849484\\\\\n",
       "\t  8 & 1.835630\\\\\n",
       "\t  9 & 1.833331\\\\\n",
       "\t 10 & 1.832171\\\\\n",
       "\\end{tabular}\n"
      ],
      "text/markdown": [
       "\n",
       "A data.frame: 10 × 2\n",
       "\n",
       "| degrees &lt;int&gt; | RSSs &lt;dbl&gt; |\n",
       "|---|---|\n",
       "|  1 | 2.768563 |\n",
       "|  2 | 2.035262 |\n",
       "|  3 | 1.934107 |\n",
       "|  4 | 1.932981 |\n",
       "|  5 | 1.915290 |\n",
       "|  6 | 1.878257 |\n",
       "|  7 | 1.849484 |\n",
       "|  8 | 1.835630 |\n",
       "|  9 | 1.833331 |\n",
       "| 10 | 1.832171 |\n",
       "\n"
      ],
      "text/plain": [
       "   degrees RSSs    \n",
       "1   1      2.768563\n",
       "2   2      2.035262\n",
       "3   3      1.934107\n",
       "4   4      1.932981\n",
       "5   5      1.915290\n",
       "6   6      1.878257\n",
       "7   7      1.849484\n",
       "8   8      1.835630\n",
       "9   9      1.833331\n",
       "10 10      1.832171"
      ]
     },
     "metadata": {},
     "output_type": "display_data"
    }
   ],
   "source": [
    "rss_results <- data.frame(rss_results)\n",
    "rss_results"
   ]
  },
  {
   "cell_type": "code",
   "execution_count": 95,
   "metadata": {},
   "outputs": [
    {
     "data": {
      "image/png": "[encoded data removed]",
      "text/plain": [
       "plot without title"
      ]
     },
     "metadata": {
      "image/png": {
       "height": 420,
       "width": 420
      }
     },
     "output_type": "display_data"
    }
   ],
   "source": [
    "plot(Boston$nox ~ Boston$dis, xlab='dis', ylab='nox')\n",
    "for (d in 1:10) {\n",
    "    LR_for <- lm(nox ~ poly(dis, d=d), data=Boston)    \n",
    "    lines(sort(Boston$dis), fitted(LR_for)[order(Boston$dis)],\n",
    "          col=rainbow(20)[d+d], type='l') \n",
    "}"
   ]
  },
  {
   "cell_type": "code",
   "execution_count": 100,
   "metadata": {},
   "outputs": [],
   "source": [
    "# C)\n",
    "cross_validation <- NULL\n",
    "\n",
    "for (d in 1:10) {\n",
    "    LR_for <- lm(nox ~ poly(dis, d=d), data=Boston, x=TRUE, y=TRUE)\n",
    "    CV_for <- cv.lm(LR_for, k=5, seed=123)\n",
    "    cross_validation$Degrees[d] <- d\n",
    "    cross_validation$MSE[d] <- CV_for$MSE$mean\n",
    "    \n",
    "}"
   ]
  },
  {
   "cell_type": "code",
   "execution_count": 101,
   "metadata": {},
   "outputs": [
    {
     "data": {
      "text/html": [
       "<table class=\"dataframe\">\n",
       "<caption>A data.frame: 10 × 2</caption>\n",
       "<thead>\n",
       "\t<tr><th scope=col>Degrees</th><th scope=col>MSE</th></tr>\n",
       "\t<tr><th scope=col>&lt;int&gt;</th><th scope=col>&lt;dbl&gt;</th></tr>\n",
       "</thead>\n",
       "<tbody>\n",
       "\t<tr><td> 1</td><td>0.005530913</td></tr>\n",
       "\t<tr><td> 2</td><td>0.004075204</td></tr>\n",
       "\t<tr><td> 3</td><td>0.003861502</td></tr>\n",
       "\t<tr><td> 4</td><td>0.003883657</td></tr>\n",
       "\t<tr><td> 5</td><td>0.004081549</td></tr>\n",
       "\t<tr><td> 6</td><td>0.004881712</td></tr>\n",
       "\t<tr><td> 7</td><td>0.007391917</td></tr>\n",
       "\t<tr><td> 8</td><td>0.004582410</td></tr>\n",
       "\t<tr><td> 9</td><td>0.024055149</td></tr>\n",
       "\t<tr><td>10</td><td>0.035535122</td></tr>\n",
       "</tbody>\n",
       "</table>\n"
      ],
      "text/latex": [
       "A data.frame: 10 × 2\n",
       "\\begin{tabular}{ll}\n",
       " Degrees & MSE\\\\\n",
       " <int> & <dbl>\\\\\n",
       "\\hline\n",
       "\t  1 & 0.005530913\\\\\n",
       "\t  2 & 0.004075204\\\\\n",
       "\t  3 & 0.003861502\\\\\n",
       "\t  4 & 0.003883657\\\\\n",
       "\t  5 & 0.004081549\\\\\n",
       "\t  6 & 0.004881712\\\\\n",
       "\t  7 & 0.007391917\\\\\n",
       "\t  8 & 0.004582410\\\\\n",
       "\t  9 & 0.024055149\\\\\n",
       "\t 10 & 0.035535122\\\\\n",
       "\\end{tabular}\n"
      ],
      "text/markdown": [
       "\n",
       "A data.frame: 10 × 2\n",
       "\n",
       "| Degrees &lt;int&gt; | MSE &lt;dbl&gt; |\n",
       "|---|---|\n",
       "|  1 | 0.005530913 |\n",
       "|  2 | 0.004075204 |\n",
       "|  3 | 0.003861502 |\n",
       "|  4 | 0.003883657 |\n",
       "|  5 | 0.004081549 |\n",
       "|  6 | 0.004881712 |\n",
       "|  7 | 0.007391917 |\n",
       "|  8 | 0.004582410 |\n",
       "|  9 | 0.024055149 |\n",
       "| 10 | 0.035535122 |\n",
       "\n"
      ],
      "text/plain": [
       "   Degrees MSE        \n",
       "1   1      0.005530913\n",
       "2   2      0.004075204\n",
       "3   3      0.003861502\n",
       "4   4      0.003883657\n",
       "5   5      0.004081549\n",
       "6   6      0.004881712\n",
       "7   7      0.007391917\n",
       "8   8      0.004582410\n",
       "9   9      0.024055149\n",
       "10 10      0.035535122"
      ]
     },
     "metadata": {},
     "output_type": "display_data"
    }
   ],
   "source": [
    "cross_validation <- data.frame(cross_validation)\n",
    "cross_validation"
   ]
  },
  {
   "cell_type": "code",
   "execution_count": 102,
   "metadata": {},
   "outputs": [
    {
     "data": {
      "text/html": [
       "<table class=\"dataframe\">\n",
       "<caption>A data.frame: 1 × 2</caption>\n",
       "<thead>\n",
       "\t<tr><th></th><th scope=col>Degrees</th><th scope=col>MSE</th></tr>\n",
       "\t<tr><th></th><th scope=col>&lt;int&gt;</th><th scope=col>&lt;dbl&gt;</th></tr>\n",
       "</thead>\n",
       "<tbody>\n",
       "\t<tr><th scope=row>3</th><td>3</td><td>0.003861502</td></tr>\n",
       "</tbody>\n",
       "</table>\n"
      ],
      "text/latex": [
       "A data.frame: 1 × 2\n",
       "\\begin{tabular}{r|ll}\n",
       "  & Degrees & MSE\\\\\n",
       "  & <int> & <dbl>\\\\\n",
       "\\hline\n",
       "\t3 & 3 & 0.003861502\\\\\n",
       "\\end{tabular}\n"
      ],
      "text/markdown": [
       "\n",
       "A data.frame: 1 × 2\n",
       "\n",
       "| <!--/--> | Degrees &lt;int&gt; | MSE &lt;dbl&gt; |\n",
       "|---|---|---|\n",
       "| 3 | 3 | 0.003861502 |\n",
       "\n"
      ],
      "text/plain": [
       "  Degrees MSE        \n",
       "3 3       0.003861502"
      ]
     },
     "metadata": {},
     "output_type": "display_data"
    }
   ],
   "source": [
    "cross_validation[cross_validation$MSE == min(cross_validation$MSE), ]"
   ]
  },
  {
   "cell_type": "code",
   "execution_count": 103,
   "metadata": {},
   "outputs": [],
   "source": [
    "# D)\n",
    "library(splines)\n",
    "LR_splines <- lm(nox ~ bs(dis, df=4), data=Boston)"
   ]
  },
  {
   "cell_type": "code",
   "execution_count": 104,
   "metadata": {},
   "outputs": [
    {
     "data": {
      "text/plain": [
       "\n",
       "Call:\n",
       "lm(formula = nox ~ bs(dis, df = 4), data = Boston)\n",
       "\n",
       "Residuals:\n",
       "      Min        1Q    Median        3Q       Max \n",
       "-0.124622 -0.039259 -0.008514  0.020850  0.193891 \n",
       "\n",
       "Coefficients:\n",
       "                 Estimate Std. Error t value Pr(>|t|)    \n",
       "(Intercept)       0.73447    0.01460  50.306  < 2e-16 ***\n",
       "bs(dis, df = 4)1 -0.05810    0.02186  -2.658  0.00812 ** \n",
       "bs(dis, df = 4)2 -0.46356    0.02366 -19.596  < 2e-16 ***\n",
       "bs(dis, df = 4)3 -0.19979    0.04311  -4.634 4.58e-06 ***\n",
       "bs(dis, df = 4)4 -0.38881    0.04551  -8.544  < 2e-16 ***\n",
       "---\n",
       "Signif. codes:  0 '***' 0.001 '**' 0.01 '*' 0.05 '.' 0.1 ' ' 1\n",
       "\n",
       "Residual standard error: 0.06195 on 501 degrees of freedom\n",
       "Multiple R-squared:  0.7164,\tAdjusted R-squared:  0.7142 \n",
       "F-statistic: 316.5 on 4 and 501 DF,  p-value: < 2.2e-16\n"
      ]
     },
     "metadata": {},
     "output_type": "display_data"
    }
   ],
   "source": [
    "summary(LR_splines)"
   ]
  },
  {
   "cell_type": "code",
   "execution_count": 105,
   "metadata": {},
   "outputs": [
    {
     "data": {
      "image/png": "[encoded data removed]",
      "text/plain": [
       "Plot with title \"\""
      ]
     },
     "metadata": {
      "image/png": {
       "height": 420,
       "width": 420
      }
     },
     "output_type": "display_data"
    },
    {
     "data": {
      "image/png": "[encoded data removed]",
      "text/plain": [
       "Plot with title \"\""
      ]
     },
     "metadata": {
      "image/png": {
       "height": 420,
       "width": 420
      }
     },
     "output_type": "display_data"
    },
    {
     "data": {
      "image/png": "[encoded data removed]",
      "text/plain": [
       "Plot with title \"\""
      ]
     },
     "metadata": {
      "image/png": {
       "height": 420,
       "width": 420
      }
     },
     "output_type": "display_data"
    },
    {
     "data": {
      "image/png": "[encoded data removed]",
      "text/plain": [
       "Plot with title \"\""
      ]
     },
     "metadata": {
      "image/png": {
       "height": 420,
       "width": 420
      }
     },
     "output_type": "display_data"
    }
   ],
   "source": [
    "plot(LR_splines)"
   ]
  },
  {
   "cell_type": "code",
   "execution_count": 106,
   "metadata": {},
   "outputs": [
    {
     "name": "stderr",
     "output_type": "stream",
     "text": [
      "Warning message in bs(dis, df = d):\n",
      "\"'df' was too small; have used 3\"\n",
      "Warning message in bs(dis, df = d):\n",
      "\"'df' was too small; have used 3\"\n"
     ]
    }
   ],
   "source": [
    "Spline_df <- NULL\n",
    "for (d in 1:20) {\n",
    "    spline_for <- lm(nox ~ bs(dis, df=d), data=Boston)\n",
    "    RSS <- sum((predict(spline_for, newdata=Boston) - Boston$nox)^2)\n",
    "    Spline_df$Dgrees[d]<-d\n",
    "    Spline_df$RSS[d] <- RSS\n",
    "    \n",
    "}"
   ]
  },
  {
   "cell_type": "code",
   "execution_count": 107,
   "metadata": {},
   "outputs": [
    {
     "data": {
      "text/html": [
       "<table class=\"dataframe\">\n",
       "<caption>A data.frame: 20 × 2</caption>\n",
       "<thead>\n",
       "\t<tr><th scope=col>Dgrees</th><th scope=col>RSS</th></tr>\n",
       "\t<tr><th scope=col>&lt;int&gt;</th><th scope=col>&lt;dbl&gt;</th></tr>\n",
       "</thead>\n",
       "<tbody>\n",
       "\t<tr><td> 1</td><td>1.934107</td></tr>\n",
       "\t<tr><td> 2</td><td>1.934107</td></tr>\n",
       "\t<tr><td> 3</td><td>1.934107</td></tr>\n",
       "\t<tr><td> 4</td><td>1.922775</td></tr>\n",
       "\t<tr><td> 5</td><td>1.840173</td></tr>\n",
       "\t<tr><td> 6</td><td>1.833966</td></tr>\n",
       "\t<tr><td> 7</td><td>1.829884</td></tr>\n",
       "\t<tr><td> 8</td><td>1.816995</td></tr>\n",
       "\t<tr><td> 9</td><td>1.825653</td></tr>\n",
       "\t<tr><td>10</td><td>1.792535</td></tr>\n",
       "\t<tr><td>11</td><td>1.796992</td></tr>\n",
       "\t<tr><td>12</td><td>1.788999</td></tr>\n",
       "\t<tr><td>13</td><td>1.782350</td></tr>\n",
       "\t<tr><td>14</td><td>1.781838</td></tr>\n",
       "\t<tr><td>15</td><td>1.782798</td></tr>\n",
       "\t<tr><td>16</td><td>1.783546</td></tr>\n",
       "\t<tr><td>17</td><td>1.779789</td></tr>\n",
       "\t<tr><td>18</td><td>1.775838</td></tr>\n",
       "\t<tr><td>19</td><td>1.774487</td></tr>\n",
       "\t<tr><td>20</td><td>1.776727</td></tr>\n",
       "</tbody>\n",
       "</table>\n"
      ],
      "text/latex": [
       "A data.frame: 20 × 2\n",
       "\\begin{tabular}{ll}\n",
       " Dgrees & RSS\\\\\n",
       " <int> & <dbl>\\\\\n",
       "\\hline\n",
       "\t  1 & 1.934107\\\\\n",
       "\t  2 & 1.934107\\\\\n",
       "\t  3 & 1.934107\\\\\n",
       "\t  4 & 1.922775\\\\\n",
       "\t  5 & 1.840173\\\\\n",
       "\t  6 & 1.833966\\\\\n",
       "\t  7 & 1.829884\\\\\n",
       "\t  8 & 1.816995\\\\\n",
       "\t  9 & 1.825653\\\\\n",
       "\t 10 & 1.792535\\\\\n",
       "\t 11 & 1.796992\\\\\n",
       "\t 12 & 1.788999\\\\\n",
       "\t 13 & 1.782350\\\\\n",
       "\t 14 & 1.781838\\\\\n",
       "\t 15 & 1.782798\\\\\n",
       "\t 16 & 1.783546\\\\\n",
       "\t 17 & 1.779789\\\\\n",
       "\t 18 & 1.775838\\\\\n",
       "\t 19 & 1.774487\\\\\n",
       "\t 20 & 1.776727\\\\\n",
       "\\end{tabular}\n"
      ],
      "text/markdown": [
       "\n",
       "A data.frame: 20 × 2\n",
       "\n",
       "| Dgrees &lt;int&gt; | RSS &lt;dbl&gt; |\n",
       "|---|---|\n",
       "|  1 | 1.934107 |\n",
       "|  2 | 1.934107 |\n",
       "|  3 | 1.934107 |\n",
       "|  4 | 1.922775 |\n",
       "|  5 | 1.840173 |\n",
       "|  6 | 1.833966 |\n",
       "|  7 | 1.829884 |\n",
       "|  8 | 1.816995 |\n",
       "|  9 | 1.825653 |\n",
       "| 10 | 1.792535 |\n",
       "| 11 | 1.796992 |\n",
       "| 12 | 1.788999 |\n",
       "| 13 | 1.782350 |\n",
       "| 14 | 1.781838 |\n",
       "| 15 | 1.782798 |\n",
       "| 16 | 1.783546 |\n",
       "| 17 | 1.779789 |\n",
       "| 18 | 1.775838 |\n",
       "| 19 | 1.774487 |\n",
       "| 20 | 1.776727 |\n",
       "\n"
      ],
      "text/plain": [
       "   Dgrees RSS     \n",
       "1   1     1.934107\n",
       "2   2     1.934107\n",
       "3   3     1.934107\n",
       "4   4     1.922775\n",
       "5   5     1.840173\n",
       "6   6     1.833966\n",
       "7   7     1.829884\n",
       "8   8     1.816995\n",
       "9   9     1.825653\n",
       "10 10     1.792535\n",
       "11 11     1.796992\n",
       "12 12     1.788999\n",
       "13 13     1.782350\n",
       "14 14     1.781838\n",
       "15 15     1.782798\n",
       "16 16     1.783546\n",
       "17 17     1.779789\n",
       "18 18     1.775838\n",
       "19 19     1.774487\n",
       "20 20     1.776727"
      ]
     },
     "metadata": {},
     "output_type": "display_data"
    }
   ],
   "source": [
    "Spline_df <- data.frame(Spline_df)\n",
    "Spline_df"
   ]
  },
  {
   "cell_type": "code",
   "execution_count": 108,
   "metadata": {},
   "outputs": [
    {
     "name": "stderr",
     "output_type": "stream",
     "text": [
      "Warning message in bs(dis, df = d):\n",
      "\"'df' was too small; have used 3\"\n",
      "Warning message in bs(dis, df = d):\n",
      "\"'df' was too small; have used 3\"\n"
     ]
    }
   ],
   "source": [
    "# F)\n",
    "cross_validation_splines <- NULL\n",
    "\n",
    "for (d in 1:20) {\n",
    "    spline_for <- lm(nox ~ bs(dis, df=d), data=Boston, x=TRUE, y=TRUE)\n",
    "    CV_for <- cv.lm(spline_for, k=5, seed=123)\n",
    "    cross_validation_splines$Degrees[d] <- d\n",
    "    cross_validation_splines$MSE[d] <- CV_for$MSE$mean\n",
    "    \n",
    "}"
   ]
  },
  {
   "cell_type": "code",
   "execution_count": 109,
   "metadata": {},
   "outputs": [
    {
     "data": {
      "text/html": [
       "<table class=\"dataframe\">\n",
       "<caption>A data.frame: 20 × 2</caption>\n",
       "<thead>\n",
       "\t<tr><th scope=col>Degrees</th><th scope=col>MSE</th></tr>\n",
       "\t<tr><th scope=col>&lt;int&gt;</th><th scope=col>&lt;dbl&gt;</th></tr>\n",
       "</thead>\n",
       "<tbody>\n",
       "\t<tr><td> 1</td><td>0.003861502</td></tr>\n",
       "\t<tr><td> 2</td><td>0.003861502</td></tr>\n",
       "\t<tr><td> 3</td><td>0.003861502</td></tr>\n",
       "\t<tr><td> 4</td><td>0.003867090</td></tr>\n",
       "\t<tr><td> 5</td><td>0.003698980</td></tr>\n",
       "\t<tr><td> 6</td><td>0.003703753</td></tr>\n",
       "\t<tr><td> 7</td><td>0.003703729</td></tr>\n",
       "\t<tr><td> 8</td><td>0.003697953</td></tr>\n",
       "\t<tr><td> 9</td><td>0.003735732</td></tr>\n",
       "\t<tr><td>10</td><td>0.003672526</td></tr>\n",
       "\t<tr><td>11</td><td>0.003680975</td></tr>\n",
       "\t<tr><td>12</td><td>0.003711024</td></tr>\n",
       "\t<tr><td>13</td><td>0.003687944</td></tr>\n",
       "\t<tr><td>14</td><td>0.003743003</td></tr>\n",
       "\t<tr><td>15</td><td>0.003727683</td></tr>\n",
       "\t<tr><td>16</td><td>0.003754969</td></tr>\n",
       "\t<tr><td>17</td><td>0.003781300</td></tr>\n",
       "\t<tr><td>18</td><td>0.003753077</td></tr>\n",
       "\t<tr><td>19</td><td>0.003822325</td></tr>\n",
       "\t<tr><td>20</td><td>0.003813066</td></tr>\n",
       "</tbody>\n",
       "</table>\n"
      ],
      "text/latex": [
       "A data.frame: 20 × 2\n",
       "\\begin{tabular}{ll}\n",
       " Degrees & MSE\\\\\n",
       " <int> & <dbl>\\\\\n",
       "\\hline\n",
       "\t  1 & 0.003861502\\\\\n",
       "\t  2 & 0.003861502\\\\\n",
       "\t  3 & 0.003861502\\\\\n",
       "\t  4 & 0.003867090\\\\\n",
       "\t  5 & 0.003698980\\\\\n",
       "\t  6 & 0.003703753\\\\\n",
       "\t  7 & 0.003703729\\\\\n",
       "\t  8 & 0.003697953\\\\\n",
       "\t  9 & 0.003735732\\\\\n",
       "\t 10 & 0.003672526\\\\\n",
       "\t 11 & 0.003680975\\\\\n",
       "\t 12 & 0.003711024\\\\\n",
       "\t 13 & 0.003687944\\\\\n",
       "\t 14 & 0.003743003\\\\\n",
       "\t 15 & 0.003727683\\\\\n",
       "\t 16 & 0.003754969\\\\\n",
       "\t 17 & 0.003781300\\\\\n",
       "\t 18 & 0.003753077\\\\\n",
       "\t 19 & 0.003822325\\\\\n",
       "\t 20 & 0.003813066\\\\\n",
       "\\end{tabular}\n"
      ],
      "text/markdown": [
       "\n",
       "A data.frame: 20 × 2\n",
       "\n",
       "| Degrees &lt;int&gt; | MSE &lt;dbl&gt; |\n",
       "|---|---|\n",
       "|  1 | 0.003861502 |\n",
       "|  2 | 0.003861502 |\n",
       "|  3 | 0.003861502 |\n",
       "|  4 | 0.003867090 |\n",
       "|  5 | 0.003698980 |\n",
       "|  6 | 0.003703753 |\n",
       "|  7 | 0.003703729 |\n",
       "|  8 | 0.003697953 |\n",
       "|  9 | 0.003735732 |\n",
       "| 10 | 0.003672526 |\n",
       "| 11 | 0.003680975 |\n",
       "| 12 | 0.003711024 |\n",
       "| 13 | 0.003687944 |\n",
       "| 14 | 0.003743003 |\n",
       "| 15 | 0.003727683 |\n",
       "| 16 | 0.003754969 |\n",
       "| 17 | 0.003781300 |\n",
       "| 18 | 0.003753077 |\n",
       "| 19 | 0.003822325 |\n",
       "| 20 | 0.003813066 |\n",
       "\n"
      ],
      "text/plain": [
       "   Degrees MSE        \n",
       "1   1      0.003861502\n",
       "2   2      0.003861502\n",
       "3   3      0.003861502\n",
       "4   4      0.003867090\n",
       "5   5      0.003698980\n",
       "6   6      0.003703753\n",
       "7   7      0.003703729\n",
       "8   8      0.003697953\n",
       "9   9      0.003735732\n",
       "10 10      0.003672526\n",
       "11 11      0.003680975\n",
       "12 12      0.003711024\n",
       "13 13      0.003687944\n",
       "14 14      0.003743003\n",
       "15 15      0.003727683\n",
       "16 16      0.003754969\n",
       "17 17      0.003781300\n",
       "18 18      0.003753077\n",
       "19 19      0.003822325\n",
       "20 20      0.003813066"
      ]
     },
     "metadata": {},
     "output_type": "display_data"
    }
   ],
   "source": [
    "cross_validation_splines <- data.frame(cross_validation_splines)\n",
    "cross_validation_splines"
   ]
  },
  {
   "cell_type": "code",
   "execution_count": 110,
   "metadata": {},
   "outputs": [
    {
     "data": {
      "text/html": [
       "<table class=\"dataframe\">\n",
       "<caption>A data.frame: 1 × 2</caption>\n",
       "<thead>\n",
       "\t<tr><th></th><th scope=col>Degrees</th><th scope=col>MSE</th></tr>\n",
       "\t<tr><th></th><th scope=col>&lt;int&gt;</th><th scope=col>&lt;dbl&gt;</th></tr>\n",
       "</thead>\n",
       "<tbody>\n",
       "\t<tr><th scope=row>10</th><td>10</td><td>0.003672526</td></tr>\n",
       "</tbody>\n",
       "</table>\n"
      ],
      "text/latex": [
       "A data.frame: 1 × 2\n",
       "\\begin{tabular}{r|ll}\n",
       "  & Degrees & MSE\\\\\n",
       "  & <int> & <dbl>\\\\\n",
       "\\hline\n",
       "\t10 & 10 & 0.003672526\\\\\n",
       "\\end{tabular}\n"
      ],
      "text/markdown": [
       "\n",
       "A data.frame: 1 × 2\n",
       "\n",
       "| <!--/--> | Degrees &lt;int&gt; | MSE &lt;dbl&gt; |\n",
       "|---|---|---|\n",
       "| 10 | 10 | 0.003672526 |\n",
       "\n"
      ],
      "text/plain": [
       "   Degrees MSE        \n",
       "10 10      0.003672526"
      ]
     },
     "metadata": {},
     "output_type": "display_data"
    }
   ],
   "source": [
    "cross_validation_splines[cross_validation_splines$MSE == min(cross_validation_splines$MSE), ]"
   ]
  },
  {
   "cell_type": "markdown",
   "metadata": {},
   "source": [
    "#### Chap.7 Exercise 9"
   ]
  },
  {
   "cell_type": "code",
   "execution_count": 112,
   "metadata": {},
   "outputs": [],
   "source": [
    "collage<-College\n",
    "collage$Private <- as.numeric(collage$Private=='Yes')\n",
    "set.seed(123)\n",
    "\n",
    "#set index\n",
    "index <- sample(1:nrow(collage), round(0.5 * nrow(collage), 0))\n",
    "\n",
    "#split data\n",
    "train <- collage[index, ]\n",
    "test <- collage[-index, ]"
   ]
  },
  {
   "cell_type": "code",
   "execution_count": 116,
   "metadata": {},
   "outputs": [
    {
     "data": {
      "text/html": [
       "18"
      ],
      "text/latex": [
       "18"
      ],
      "text/markdown": [
       "18"
      ],
      "text/plain": [
       "[1] 18"
      ]
     },
     "metadata": {},
     "output_type": "display_data"
    },
    {
     "data": {
      "text/html": [
       "18"
      ],
      "text/latex": [
       "18"
      ],
      "text/markdown": [
       "18"
      ],
      "text/plain": [
       "[1] 18"
      ]
     },
     "metadata": {},
     "output_type": "display_data"
    }
   ],
   "source": [
    "length(train)\n",
    "length(test)"
   ]
  },
  {
   "cell_type": "code",
   "execution_count": 135,
   "metadata": {},
   "outputs": [
    {
     "data": {
      "text/html": [
       "17"
      ],
      "text/latex": [
       "17"
      ],
      "text/markdown": [
       "17"
      ],
      "text/plain": [
       "[1] 17"
      ]
     },
     "metadata": {},
     "output_type": "display_data"
    }
   ],
   "source": [
    "selected_columns <- colnames(train)[colnames(train) != \"Outstate\"]\n",
    "length(selected_columns)"
   ]
  },
  {
   "cell_type": "code",
   "execution_count": 153,
   "metadata": {
    "tags": []
   },
   "outputs": [],
   "source": [
    "#forward selection\n",
    "set.seed(123)\n",
    "\n",
    "folds <- sample(1:5, nrow(train), replace=TRUE)"
   ]
  },
  {
   "cell_type": "code",
   "execution_count": 154,
   "metadata": {},
   "outputs": [],
   "source": [
    "cv_mat <- matrix(NA, k, nvar, dimnames=list(NULL, paste(1:nvar)))"
   ]
  },
  {
   "cell_type": "code",
   "execution_count": null,
   "metadata": {},
   "outputs": [],
   "source": [
    "for (j in 1:5) {\n",
    "    LR_for <- regsubsets(Outstate ∼ ., data=train[folds != j, ], nvmax=17, method='forward')\n",
    "    for(i in 1:nvar) {\n",
    "        prediction <- predict(LR_for, train[folds == j, ], id=i)\n",
    "        cv_mat[j, i] <- mean((train$Outstate[folds == j] - prediction)^2)\n",
    "    }\n",
    "}\n",
    "mean_error <- apply(cv_mat, 2, mean)\n",
    "plot(mean_error, type='l')"
   ]
  },
  {
   "cell_type": "code",
   "execution_count": null,
   "metadata": {},
   "outputs": [],
   "source": []
  }
 ],
 "metadata": {
  "interpreter": {
   "hash": "81e0b57edd17c3833f38e5d4db6db81e2c0f982e51ee4890d9e870805c7d8a75"
  },
  "kernelspec": {
   "display_name": "R",
   "language": "R",
   "name": "ir"
  },
  "language_info": {
   "codemirror_mode": "r",
   "file_extension": ".r",
   "mimetype": "text/x-r-source",
   "name": "R",
   "pygments_lexer": "r",
   "version": "4.0.5"
  }
 },
 "nbformat": 4,
 "nbformat_minor": 4
}
